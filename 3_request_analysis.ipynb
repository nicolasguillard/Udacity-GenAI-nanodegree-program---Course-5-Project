{
 "cells": [
  {
   "cell_type": "code",
   "execution_count": 1,
   "id": "5581f5d5",
   "metadata": {},
   "outputs": [],
   "source": [
    "import os\n",
    "# !!!!!!! Make the API Key external !!!!!!!\n",
    "os.environ[\"OPENAI_API_KEY\"] = \"voc-8162499801266773377505669655d3c05508.40840521\"\n",
    "os.environ[\"OPENAI_API_BASE\"] = \"https://openai.vocareum.com/v1\""
   ]
  },
  {
   "cell_type": "code",
   "execution_count": 2,
   "id": "76dbd819",
   "metadata": {},
   "outputs": [],
   "source": [
    "from langchain_openai import OpenAI\n",
    "from langchain.prompts import PromptTemplate\n",
    "from langchain.output_parsers import PydanticOutputParser\n",
    "from pydantic import BaseModel, Field"
   ]
  },
  {
   "cell_type": "code",
   "execution_count": 3,
   "id": "37c71e66",
   "metadata": {},
   "outputs": [],
   "source": [
    "model_name=\"gpt-3.5-turbo-instruct\"\n",
    "#model_name=\"gpt-4o-mini\"\n",
    "temperature = 0.0\n",
    "llm = OpenAI(\n",
    "    model_name=model_name, temperature=temperature, max_tokens=3500\n",
    ")"
   ]
  },
  {
   "cell_type": "code",
   "execution_count": null,
   "id": "05e3974a",
   "metadata": {},
   "outputs": [],
   "source": [
    "class PropertySearchRequestClass(BaseModel):\n",
    "    location: str = Field(\n",
    "        description = \"location in USA including the name the neighborhood\"\n",
    "    )\n",
    "    style: str = Field(\n",
    "        description = \"style of construction\"\n",
    "    )\n",
    "    rooms: int = Field(\n",
    "        description = \"number of rooms\"\n",
    "    )\n",
    "    bedrooms: int = Field(\n",
    "        description = \"number of bedrooms\"\n",
    "    )\n",
    "    bathrooms: int = Field(\n",
    "        description = \"number of bathrooms\"\n",
    "    )\n",
    "    floors: int = Field(\n",
    "        description = \"number of floors\"\n",
    "    )\n",
    "    house_size: int = Field(\n",
    "        description = \"surface area in square feet\"\n",
    "    )\n",
    "    price: int = Field(\n",
    "        description = \"price in dollars\"\n",
    "    )"
   ]
  },
  {
   "cell_type": "code",
   "execution_count": null,
   "id": "f8ce9a0c",
   "metadata": {},
   "outputs": [],
   "source": [
    "parser = PydanticOutputParser(pydantic_object=PropertySearchRequestClass)\n",
    "\n",
    "analyse_prompt_generator = PromptTemplate(\n",
    "    template=\"{my_query}\\n{format_instructions}\",\n",
    "    input_variables=[\"my_query\", \"context\"],\n",
    "    partial_variables={\"format_instructions\": parser.get_format_instructions},\n",
    ")"
   ]
  },
  {
   "cell_type": "code",
   "execution_count": 29,
   "id": "3f7a488f",
   "metadata": {},
   "outputs": [
    {
     "name": "stdout",
     "output_type": "stream",
     "text": [
      "Analyzed request:  \n",
      "{\n",
      "  \"location\": \"San Francisco, California\",\n",
      "  \"style\": \"modern\",\n",
      "  \"rooms\": -1,\n",
      "  \"bedrooms\": -1,\n",
      "  \"bathrooms\": 2,\n",
      "  \"floors\": -1,\n",
      "  \"house_size\": 2500,\n",
      "  \"price\": 500000\n",
      "}\n",
      "Parsed response:  location='San Francisco, California' style='modern' rooms=-1 bedrooms=-1 bathrooms=2 floors=-1 house_size=2500 price=500000\n"
     ]
    }
   ],
   "source": [
    "my_request = \"I'm looking for a modern-style house with a sea view for a large family. The house should be located in a quiet neighborhood in San Francisco, California. It should have at least 2 bathrooms and a large garden. The total area of the house should be at least 2500 square feet, and the price should not exceed $500,000.\"\n",
    "\n",
    "analyze_query = f\"\"\"\n",
    "    find all available information as defined in the following output schema from this request :\"{my_request}\", in order to generate a corresponding filled json data structure. set -1 for any missing information.\n",
    "\"\"\"\n",
    "\n",
    "prompt = analyse_prompt_generator.format(my_query=analyze_query)\n",
    "analyzed_request = llm.invoke(prompt)\n",
    "print(\"Analyzed request: \", analyzed_request)\n",
    "parsed_response = parser.parse(analyzed_request)\n",
    "print(\"Parsed response: \", parsed_response)"
   ]
  },
  {
   "cell_type": "code",
   "execution_count": 30,
   "id": "82de5522",
   "metadata": {},
   "outputs": [
    {
     "name": "stdout",
     "output_type": "stream",
     "text": [
      "location: San Francisco, California; style: modern; bathrooms: 2; house_size: 2500; price: 500000\n"
     ]
    }
   ],
   "source": [
    "data = []\n",
    "for k, v in vars(parsed_response).items():\n",
    "    if v != -1:\n",
    "        data.append(f\"{k}: {v}\")\n",
    "\n",
    "data = \"; \".join(data)\n",
    "print(data)"
   ]
  },
  {
   "cell_type": "code",
   "execution_count": 31,
   "id": "9c8deeaa",
   "metadata": {},
   "outputs": [
    {
     "name": "stdout",
     "output_type": "stream",
     "text": [
      "Reformulated request:  generate a simple and clear search request for an home based on the following information: location: San Francisco, California; style: modern; bathrooms: 2; house_size: 2500; price: 500000\n"
     ]
    }
   ],
   "source": [
    "reformulate_prompt = f\"\"\"generate a simple and clear search request for an home based on the following information: {data}\"\"\"\n",
    "print(\"Reformulated request: \", reformulate_prompt)"
   ]
  },
  {
   "cell_type": "code",
   "execution_count": 32,
   "id": "bdaf34e5",
   "metadata": {},
   "outputs": [
    {
     "name": "stdout",
     "output_type": "stream",
     "text": [
      "reformulated \n",
      "\n",
      "\"I am looking for a modern home in San Francisco, California with 2 bathrooms and a house size of 2500 square feet, priced at $500,000.\"\n"
     ]
    }
   ],
   "source": [
    "reformulated = llm.invoke(reformulate_prompt)\n",
    "print(\"reformulated\", reformulated)"
   ]
  },
  {
   "cell_type": "code",
   "execution_count": null,
   "id": "2a63beda",
   "metadata": {},
   "outputs": [],
   "source": [
    "advertisement = \"\"\"{'location': 'Los Angeles, California', 'style': 'Modern', 'rooms': 6, 'bedrooms': 3, 'bathrooms': 2, 'floors': 2, 'house_size': 2000, 'price': 500000, 'property_description': 'This beautiful modern home is located in the heart of Los Angeles. It features 3 bedrooms, 2 bathrooms, and a spacious living area. The house has 2 floors and a total size of 2000 square feet. It also has a garage and a small garden. The price for this property is $500,000.', 'neighborhood_description': 'The neighborhood is known for its vibrant culture and diverse community. It is also conveniently located near popular restaurants, shopping centers, and entertainment venues.'}\"\"\"\n",
    "\n",
    "response_augmentation_request = f\"\"\"reformulate the this advertisement {advertisement} in order to show that it matches the following request: {reformulated}, with respect to the information of the advertisement. Add arguments to the advertisement to make it more attractive. The advertisement should be in a natural language format, and should not be a json object. The advertisement should be at least 100 words long. All the text is in English.\"\"\""
   ]
  },
  {
   "cell_type": "code",
   "execution_count": 39,
   "id": "4ad7f55b",
   "metadata": {},
   "outputs": [
    {
     "name": "stdout",
     "output_type": "stream",
     "text": [
      "reformulated \n",
      "\n",
      "\"Welcome to your dream home in the bustling city of San Francisco, California! This stunning modern property boasts a prime location in the heart of the city, surrounded by the vibrant culture and diverse community that San Francisco is known for. With 3 spacious bedrooms and 2 luxurious bathrooms, this home offers ample space for you and your loved ones to relax and unwind. The 2 floors and 2000 square feet of living space provide the perfect balance of comfort and style. Plus, with a garage and a charming garden, you'll have plenty of room for all your hobbies and outdoor activities. And the best part? This gem is priced at an unbeatable $500,000, making it the perfect opportunity to own your own piece of San Francisco. Don't miss out on this amazing deal - schedule a viewing today!\"\n"
     ]
    }
   ],
   "source": [
    "augmented_advert = llm.invoke(response_augmentation_request)\n",
    "print(\"reformulated\", augmented_advert)"
   ]
  },
  {
   "cell_type": "code",
   "execution_count": null,
   "id": "8168ff2d",
   "metadata": {},
   "outputs": [],
   "source": []
  }
 ],
 "metadata": {
  "kernelspec": {
   "display_name": "udacity_genai_p5",
   "language": "python",
   "name": "python3"
  },
  "language_info": {
   "codemirror_mode": {
    "name": "ipython",
    "version": 3
   },
   "file_extension": ".py",
   "mimetype": "text/x-python",
   "name": "python",
   "nbconvert_exporter": "python",
   "pygments_lexer": "ipython3",
   "version": "3.12.9"
  }
 },
 "nbformat": 4,
 "nbformat_minor": 5
}
