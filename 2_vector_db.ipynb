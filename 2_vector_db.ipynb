{
 "cells": [
  {
   "cell_type": "code",
   "execution_count": 2,
   "metadata": {},
   "outputs": [],
   "source": [
    "import json\n",
    "import re\n",
    "from pathlib import Path\n",
    "#import jq\n",
    "from langchain_community.document_loaders import JSONLoader\n",
    "from langchain_openai import OpenAIEmbeddings\n",
    "from langchain.vectorstores import Chroma"
   ]
  },
  {
   "cell_type": "code",
   "execution_count": 3,
   "metadata": {},
   "outputs": [],
   "source": [
    "import os\n",
    "os.environ[\"OPENAI_API_KEY\"] = \"voc-8162499801266773377505669655d3c05508.40840521\"\n",
    "os.environ[\"OPENAI_API_BASE\"] = \"https://openai.vocareum.com/v1\""
   ]
  },
  {
   "cell_type": "code",
   "execution_count": 4,
   "metadata": {},
   "outputs": [],
   "source": [
    "file_path='./generated_adverts_a.jsonl'"
   ]
  },
  {
   "cell_type": "code",
   "execution_count": 5,
   "metadata": {},
   "outputs": [
    {
     "name": "stdout",
     "output_type": "stream",
     "text": [
      "{'Index': '1', 'Neighborhood': 'Maplewood, New Jersey', 'Style': 'Colonial', 'Rooms': '6', 'Bedrooms': '3', 'Bathrooms': '2', 'House Size': '1,500 sqft', 'Price': '$350,000', 'Real Estate Description': \"Welcome to your new home in the charming neighborhood of Maplewood. This colonial-style house boasts 3 spacious bedrooms, 2 full bathrooms, and a cozy living room perfect for family gatherings. With a generous 1,500 sqft of living space, this home is perfect for a growing family. Enjoy the convenience of a garage and a beautiful garden for outdoor activities. Don't miss out on this opportunity to own a piece of Maplewood for only $350,000!\", 'Neighborhood Description': \"Maplewood is a family-friendly neighborhood known for its tree-lined streets, top-rated schools, and close-knit community. With easy access to major highways and public transportation, you'll have the best of both worlds - a peaceful suburban lifestyle with the bustling city just a short commute away.\"}\n",
      "{'Index': '2', 'Neighborhood': 'Capitol Hill, Washington D.C.', 'Style': 'Townhouse', 'Rooms': '8', 'Bedrooms': '4', 'Bathrooms': '3', 'House Size': '2,000 sqft', 'Price': '$800,000', 'Real Estate Description': \"Live in the heart of the nation's capital in this stunning townhouse in Capitol Hill. With 4 spacious bedrooms and 3 full bathrooms, this modern home offers plenty of space for a growing family. The open-concept living area is perfect for entertaining, and the rooftop terrace provides breathtaking views of the city. This townhouse also comes with a garage for convenient parking. Don't miss out on this opportunity to own a piece of D.C. for $800,000!\", 'Neighborhood Description': \"Capitol Hill is a vibrant and historic neighborhood known for its iconic landmarks, diverse community, and lively nightlife. With easy access to public transportation and a variety of restaurants and shops, you'll never run out of things to do in this bustling neighborhood.\"}\n",
      "{'Index': '3', 'Neighborhood': 'Oak Park, Illinois', 'Style': 'Bungalow', 'Rooms': '5', 'Bedrooms': '2', 'Bathrooms': '1', 'House Size': '1,200 sqft', 'Price': '$250,000', 'Real Estate Description': \"Escape the hustle and bustle of the city and settle down in this charming bungalow in Oak Park. With 2 cozy bedrooms and 1 full bathroom, this home is perfect for a small family or those looking to downsize. The spacious backyard is perfect for outdoor activities and the garage provides ample storage space. Don't miss out on this opportunity to own a piece of Oak Park for only $250,000!\", 'Neighborhood Description': 'Oak Park is a quiet and picturesque neighborhood known for its tree-lined streets, historic architecture, and strong sense of community. With top-rated schools and easy access to public transportation, this neighborhood is perfect for those looking for a peaceful suburban lifestyle.'}\n",
      "{'Index': '4', 'Neighborhood': 'Cherry Creek, Colorado', 'Style': 'Ranch', 'Rooms': '7', 'Bedrooms': '3', 'Bathrooms': '2', 'House Size': '2,500 sqft', 'Price': '$500,000', 'Real Estate Description': \"Welcome to your new home in the desirable neighborhood of Cherry Creek. This ranch-style house offers 3 bedrooms, 2 full bathrooms, and a spacious living area perfect for family gatherings. With 2,500 sqft of living space, there's plenty of room for everyone. The backyard is perfect for outdoor activities and the attached garage provides convenient parking. Don't miss out on this opportunity to own a piece of Cherry Creek for $500,000!\", 'Neighborhood Description': 'Cherry Creek is a family-friendly neighborhood known for its top-rated schools, beautiful parks, and close-knit community. With easy access to major highways and a variety of shopping and dining options, this neighborhood has everything you need for a comfortable lifestyle.'}\n",
      "{'Index': '5', 'Neighborhood': 'SoHo, New York', 'Style': 'Condo', 'Rooms': '4', 'Bedrooms': '2', 'Bathrooms': '2', 'House Size': '1,800 sqft', 'Price': '$1,200,000', 'Real Estate Description': \"Live in the lap of luxury in this stunning condo in the trendy neighborhood of SoHo. With 2 spacious bedrooms and 2 full bathrooms, this modern home offers the perfect blend of style and comfort. The open-concept living area is perfect for entertaining and the rooftop terrace provides breathtaking views of the city. Don't miss out on this opportunity to own a piece of SoHo for $1,200,000!\", 'Neighborhood Description': 'SoHo is a bustling and fashionable neighborhood known for its high-end boutiques, art galleries, and trendy restaurants. With easy access to public transportation and a vibrant nightlife, this neighborhood is perfect for those looking for a vibrant city lifestyle.'}\n",
      "{'Index': '6', 'Neighborhood': 'Lakeview, Michigan', 'Style': 'Cottage', 'Rooms': '6', 'Bedrooms': '3', 'Bathrooms': '2', 'House Size': '1,500 sqft', 'Price': '$300,000', 'Real Estate Description': \"Escape to your own private oasis in this charming cottage in Lakeview. With 3 cozy bedrooms and 2 full bathrooms, this home is perfect for a small family or those looking for a peaceful retreat. The spacious backyard is perfect for outdoor activities and the attached garage provides convenient parking. Don't miss out on this opportunity to own a piece of Lakeview for only $300,000!\", 'Neighborhood Description': 'Lakeview is a picturesque lakeside community known for its serene atmosphere, beautiful views, and friendly residents. With easy access to the lake and a variety of outdoor activities, this neighborhood is perfect for those looking for a tranquil lifestyle.'}\n",
      "{'Index': '7', 'Neighborhood': 'South Loop, Chicago', 'Style': 'Townhome', 'Rooms': '7', 'Bedrooms': '3', 'Bathrooms': '2', 'House Size': '2,000 sqft', 'Price': '$600,000', 'Real Estate Description': \"Live in the heart of the city in this modern townhome in the bustling neighborhood of South Loop. With 3 spacious bedrooms and 2 full bathrooms, this home offers plenty of space for a growing family. The open-concept living area is perfect for entertaining and the rooftop terrace provides stunning views of the city. Don't miss out on this opportunity to own a piece of South Loop for $600,000!\", 'Neighborhood Description': 'South Loop is a vibrant and diverse neighborhood known for its cultural attractions, lively nightlife, and convenient location. With easy access to public transportation and a variety of restaurants and shops, this neighborhood has something for everyone.'}\n",
      "{'Index': '8', 'Neighborhood': 'Beacon Hill, Boston', 'Style': 'Victorian', 'Rooms': '9', 'Bedrooms': '4', 'Bathrooms': '3', 'House Size': '2,500 sqft', 'Price': '$1,000,000', 'Real Estate Description': \"Step back in time and into this charming Victorian home in the historic neighborhood of Beacon Hill. With 4 spacious bedrooms and 3 full bathrooms, this home offers plenty of space for a growing family. The backyard is perfect for outdoor activities and the attached garage provides convenient parking. Don't miss out on this opportunity to own a piece of Boston's history for $1,000,000!\", 'Neighborhood Description': 'Beacon Hill is a prestigious and picturesque neighborhood known for its iconic brownstone homes, cobblestone streets, and rich history. With top-rated schools and a variety of cultural attractions, this neighborhood is perfect for those looking for a sophisticated lifestyle.'}\n",
      "{'Index': '9', 'Neighborhood': 'Greenfield, Wisconsin', 'Style': 'Ranch', 'Rooms': '6', 'Bedrooms': '3', 'Bathrooms': '2', 'House Size': '1,500 sqft', 'Price': '$300,000', 'Real Estate Description': \"Welcome to your new home in the peaceful community of Greenfield. This ranch-style house offers 3 bedrooms, 2 full bathrooms, and a spacious living area perfect for family gatherings. With 1,500 sqft of living space, there's plenty of room for everyone. The backyard is perfect for outdoor activities and the attached garage provides convenient parking. Don't miss out on this opportunity to own a piece of Greenfield for $300,000!\", 'Neighborhood Description': 'Greenfield is a quiet and family-friendly community known for its beautiful parks, top-rated schools, and strong sense of community. With easy access to major highways and a variety of shopping and dining options, this neighborhood has everything you need for a comfortable lifestyle.'}\n",
      "{'Index': '10', 'Neighborhood': 'Upper East Side, New York', 'Style': 'Penthouse', 'Rooms': '6', 'Bedrooms': '3', 'Bathrooms': '3', 'House Size': '2,500 sqft', 'Price': '$2,000,000', 'Real Estate Description': \"Live in the lap of luxury in this stunning penthouse in the prestigious Upper East Side. With 3 spacious bedrooms and 3 full bathrooms, this modern home offers the perfect blend of style and comfort. The open-concept living area is perfect for entertaining and the private terrace provides breathtaking views of the city. Don't miss out on this opportunity to own a piece of New York's elite for $2,000,000!\", 'Neighborhood Description': 'The Upper East Side is a highly sought-after neighborhood known for its upscale shops, fine dining, and luxurious living. With easy access to Central Park and a variety of cultural attractions, this neighborhood is perfect for those looking for a sophisticated lifestyle.'}\n"
     ]
    }
   ],
   "source": [
    "with open(file_path, \"r\") as file:\n",
    "    for line in file:\n",
    "        data_entry = json.loads(line)\n",
    "        # Process each data_entry as a Python dict\n",
    "        print(data_entry)"
   ]
  },
  {
   "cell_type": "code",
   "execution_count": 7,
   "metadata": {},
   "outputs": [],
   "source": [
    "loader = JSONLoader(\n",
    "    file_path=file_path,\n",
    "    jq_schema='.',\n",
    "    text_content=False,\n",
    "    json_lines=True)\n",
    "docs = loader.load()"
   ]
  },
  {
   "cell_type": "code",
   "execution_count": 8,
   "metadata": {},
   "outputs": [
    {
     "name": "stdout",
     "output_type": "stream",
     "text": [
      "page_content='{\"Index\": \"1\", \"Neighborhood\": \"Maplewood, New Jersey\", \"Style\": \"Colonial\", \"Rooms\": \"6\", \"Bedrooms\": \"3\", \"Bathrooms\": \"2\", \"House Size\": \"1,500 sqft\", \"Price\": \"$350,000\", \"Real Estate Description\": \"Welcome to your new home in the charming neighborhood of Maplewood. This colonial-style house boasts 3 spacious bedrooms, 2 full bathrooms, and a cozy living room perfect for family gatherings. With a generous 1,500 sqft of living space, this home is perfect for a growing family. Enjoy the convenience of a garage and a beautiful garden for outdoor activities. Don't miss out on this opportunity to own a piece of Maplewood for only $350,000!\", \"Neighborhood Description\": \"Maplewood is a family-friendly neighborhood known for its tree-lined streets, top-rated schools, and close-knit community. With easy access to major highways and public transportation, you'll have the best of both worlds - a peaceful suburban lifestyle with the bustling city just a short commute away.\"}' metadata={'source': '/Users/me/Dropbox (Compte personnel)/Perso NG/Cours et Mooc/Udacity/Generative AI/5-Building App/Udacity GenAI Project 5 src/generated_adverts_a.jsonl', 'seq_num': 1}\n"
     ]
    }
   ],
   "source": [
    "print(docs[0])"
   ]
  },
  {
   "cell_type": "code",
   "execution_count": 9,
   "metadata": {},
   "outputs": [
    {
     "name": "stdout",
     "output_type": "stream",
     "text": [
      "Neighborhood: Maplewood, New Jersey\n",
      "Style: Colonial\n",
      "Rooms: 6\n",
      "Bedrooms: 3\n",
      "Bathrooms: 2\n",
      "House Size: 1,500 sqft\n",
      "Price: $350,000\n",
      "Real Estate Description: Welcome to your new home in the charming neighborhood of Maplewood. This colonial-style house boasts 3 spacious bedrooms, 2 full bathrooms, and a cozy living room perfect for family gatherings. With a generous 1,500 sqft of living space, this home is perfect for a growing family. Enjoy the convenience of a garage and a beautiful garden for outdoor activities. Don't miss out on this opportunity to own a piece of Maplewood for only $350,000!\n",
      "Neighborhood Description: Maplewood is a family-friendly neighborhood known for its tree-lined streets, top-rated schools, and close-knit community. With easy access to major highways and public transportation, you'll have the best of both worlds - a peaceful suburban lifestyle with the bustling city just a short commute away.\n"
     ]
    }
   ],
   "source": [
    "def json_advert_to_string(doc):\n",
    "    json_to_str = json.dumps(json.loads(doc.page_content), indent=0)\n",
    "    json_to_str = json_to_str.replace(\"\\\"\", \"\").replace(\",\\n\", \"\\n\")\n",
    "    json_to_str = json_to_str.replace(\"{\\n\", \"\").replace(\"\\n}\", \"\")\n",
    "    json_to_str = re.sub(r\"Index: \\d+\\n\", \"\", json_to_str)\n",
    "    return json_to_str\n",
    "\n",
    "\n",
    "print(json_advert_to_string(docs[0]))"
   ]
  },
  {
   "cell_type": "code",
   "execution_count": null,
   "metadata": {},
   "outputs": [],
   "source": [
    "embeddings = OpenAIEmbeddings()\n",
    "vector_store = Chroma(\n",
    "    collection_name=\"adverts\",\n",
    "    embedding_function=embeddings,\n",
    "    persist_directory=\"./chroma_langchain_db\",  # Where to save data locally, remove if not neccesary\n",
    ")"
   ]
  }
 ],
 "metadata": {
  "kernelspec": {
   "display_name": "udacity_genai_p5",
   "language": "python",
   "name": "python3"
  },
  "language_info": {
   "codemirror_mode": {
    "name": "ipython",
    "version": 3
   },
   "file_extension": ".py",
   "mimetype": "text/x-python",
   "name": "python",
   "nbconvert_exporter": "python",
   "pygments_lexer": "ipython3",
   "version": "3.12.9"
  }
 },
 "nbformat": 4,
 "nbformat_minor": 2
}
