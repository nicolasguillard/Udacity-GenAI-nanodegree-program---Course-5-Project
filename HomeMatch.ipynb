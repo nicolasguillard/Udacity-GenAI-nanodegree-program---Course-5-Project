{
 "cells": [
  {
   "cell_type": "markdown",
   "metadata": {},
   "source": [
    "# Project Home Match"
   ]
  },
  {
   "cell_type": "markdown",
   "metadata": {},
   "source": [
    "## Modules"
   ]
  },
  {
   "cell_type": "markdown",
   "metadata": {},
   "source": [
    "Load the modules"
   ]
  },
  {
   "cell_type": "code",
   "execution_count": 1,
   "metadata": {},
   "outputs": [],
   "source": [
    "import json\n",
    "from uuid import uuid4\n",
    "from time import sleep\n",
    "import random\n",
    "\n",
    "#from langchain_openai import OpenAI\n",
    "from langchain_openai import OpenAI\n",
    "from langchain.prompts import PromptTemplate\n",
    "from langchain.output_parsers import PydanticOutputParser\n",
    "from pydantic import BaseModel, Field\n",
    "from langchain_openai import OpenAIEmbeddings\n",
    "from langchain_chroma import Chroma\n",
    "from langchain_core.documents import Document\n",
    "from tqdm.notebook import tqdm"
   ]
  },
  {
   "cell_type": "markdown",
   "metadata": {},
   "source": [
    "## OpenAI model"
   ]
  },
  {
   "cell_type": "code",
   "execution_count": 2,
   "metadata": {},
   "outputs": [],
   "source": [
    "from dotenv import load_dotenv\n",
    "if not load_dotenv(): # keys are loaded from .env file\n",
    "    print(\"Warning: .env file not found. Make sure to set environment variables manually.\")"
   ]
  },
  {
   "cell_type": "markdown",
   "metadata": {},
   "source": [
    "Instanciate the OpenAI model"
   ]
  },
  {
   "cell_type": "code",
   "execution_count": 3,
   "metadata": {},
   "outputs": [],
   "source": [
    "model_name=\"gpt-3.5-turbo-instruct\"\n",
    "#model_name=\"gpt-4o-mini\"\n",
    "temperature = 0.01\n",
    "llm = OpenAI(\n",
    "    model_name=model_name, temperature=temperature, max_tokens=3500\n",
    ")"
   ]
  },
  {
   "cell_type": "markdown",
   "metadata": {},
   "source": [
    "## Generating Real Estate Listings"
   ]
  },
  {
   "cell_type": "markdown",
   "metadata": {},
   "source": [
    "Done as JSON format structured data and saved in a file"
   ]
  },
  {
   "cell_type": "code",
   "execution_count": 4,
   "metadata": {},
   "outputs": [],
   "source": [
    "class PropertyAdvertClass(BaseModel):\n",
    "    location: str = Field(\n",
    "        description = \"location in USA including the name the neighborhood\"\n",
    "    )\n",
    "    style: str = Field(\n",
    "        description = \"style of construction\"\n",
    "    )\n",
    "    rooms: int = Field(\n",
    "        description = \"number of rooms\"\n",
    "    )\n",
    "    bedrooms: int = Field(\n",
    "        description = \"number of bedrooms\"\n",
    "    )\n",
    "    bathrooms: int = Field(\n",
    "        description = \"number of bathrooms\"\n",
    "    )\n",
    "    floors: int = Field(\n",
    "        description = \"number of floors\"\n",
    "    )\n",
    "    house_size: int = Field(\n",
    "        description = \"surface area in square feet\"\n",
    "    )\n",
    "    price: int = Field(\n",
    "        description = \"price in dollars\"\n",
    "    )\n",
    "    property_description : str = Field(\n",
    "        description = \"a detailed description including its surface area in square feet, the number of rooms, bedrooms and bathrooms, the number of floors, if there are a garage and a garden, the style of construction and its price in dollars\"\n",
    "    )\n",
    "    neighborhood_description : str = Field(\n",
    "        description = \"the neighborhood description\"\n",
    "    )\n",
    "\n",
    "class ListOfAdvertsClass(BaseModel):\n",
    "    adverts_list: list[PropertyAdvertClass]"
   ]
  },
  {
   "cell_type": "code",
   "execution_count": 5,
   "metadata": {},
   "outputs": [],
   "source": [
    "parser = PydanticOutputParser(pydantic_object=ListOfAdvertsClass)\n",
    "\n",
    "gen_prompt = PromptTemplate(\n",
    "    template=\"{question}.{context}\\n{format_instructions}\",\n",
    "    input_variables=[\"question\", \"context\"],\n",
    "    partial_variables={\"format_instructions\": parser.get_format_instructions},\n",
    ")"
   ]
  },
  {
   "cell_type": "markdown",
   "metadata": {},
   "source": [
    "We draw up a list of 20 entries, accessing the model 4 times to avoid the maximum token limit."
   ]
  },
  {
   "cell_type": "code",
   "execution_count": 6,
   "metadata": {},
   "outputs": [
    {
     "data": {
      "application/vnd.jupyter.widget-view+json": {
       "model_id": "271df9c5e15945e090a357a8283125a4",
       "version_major": 2,
       "version_minor": 0
      },
      "text/plain": [
       "  0%|          | 0/4 [00:00<?, ?it/s]"
      ]
     },
     "metadata": {},
     "output_type": "display_data"
    }
   ],
   "source": [
    "requests_data = [\n",
    "    {\n",
    "        \"num_ads\": 5,\n",
    "        \"context\": \"the Northeast of the USA\",\n",
    "    },\n",
    "    {\n",
    "        \"num_ads\": 5,\n",
    "        \"context\": \"the Midwest of the USA\",\n",
    "    },\n",
    "    {\n",
    "        \"num_ads\": 5,\n",
    "        \"context\": \"the South of the USA\",\n",
    "    },\n",
    "    {\n",
    "        \"num_ads\": 5,\n",
    "        \"context\": \"the West of the USA\",\n",
    "    },\n",
    "]\n",
    "\n",
    "all_generated_adverts = []\n",
    "for request in tqdm(requests_data):\n",
    "    num_ads = request[\"num_ads\"]\n",
    "    context = request[\"context\"]\n",
    "\n",
    "    adverts_query = f\"\"\"\n",
    "        generate {num_ads} real estate advertisements for middle-class buyers, each respecting the output schema, and all gathered in a unique array. be creative in your descriptions but consistent and realistic.\n",
    "    \"\"\"\n",
    "    context_query = f\"the following is a list of properties for sale in {context}.\"\n",
    "\n",
    "    prompt = gen_prompt.format(question=adverts_query, context=context_query)\n",
    "    #print(prompt)\n",
    "    generated_adverts = llm.invoke(prompt)\n",
    "    #print(generated_adverts)\n",
    "    all_generated_adverts.append(parser.parse(generated_adverts))\n",
    "\n",
    "    sleep(2)"
   ]
  },
  {
   "cell_type": "code",
   "execution_count": 7,
   "metadata": {},
   "outputs": [
    {
     "name": "stdout",
     "output_type": "stream",
     "text": [
      "location='Brooklyn, New York' style='Brownstone' rooms=6 bedrooms=3 bathrooms=2 floors=3 house_size=2000 price=800000 property_description=\"This beautiful Brownstone in the heart of Brooklyn offers 3 spacious bedrooms, 2 full bathrooms, and a total of 6 rooms. With 3 floors, this property boasts a total of 2000 square feet. The classic Brownstone style adds charm and character to this home. Don't miss out on this amazing opportunity for only $800,000!\" neighborhood_description='Located in the trendy neighborhood of Brooklyn, this property is surrounded by local shops, restaurants, and parks. With easy access to public transportation, you can easily explore all that New York City has to offer.'\n",
      "nlocation='Chicago, IL - Lincoln Park' style='Victorian' rooms=8 bedrooms=4 bathrooms=3 floors=3 house_size=2500 price=750000 property_description='This beautiful Victorian home in the heart of Lincoln Park boasts 8 rooms, including 4 bedrooms and 3 bathrooms. With 3 floors, there is plenty of space for a growing family. The house is 2500 square feet and features a charming wrap-around porch. The price for this historic gem is $750,000.' neighborhood_description=\"Lincoln Park is a highly sought-after neighborhood in Chicago, known for its beautiful tree-lined streets, historic homes, and proximity to Lake Michigan. It is also home to some of the city's best restaurants, shopping, and entertainment.\"\n",
      "nlocation='Savannah, Georgia' style='Colonial' rooms=6 bedrooms=4 bathrooms=3 floors=2 house_size=2500 price=350000 property_description=\"This beautiful Colonial style home in the heart of Savannah offers 4 bedrooms, 3 bathrooms, and 2 floors of living space. With a spacious 2500 square feet, this home is perfect for a growing family. Enjoy the charm of the South with a large front porch and a backyard garden. Priced at only $350,000, this home won't last long!\" neighborhood_description='Located in the historic district of Savannah, this neighborhood is known for its beautiful tree-lined streets and charming homes. Close to downtown and all the amenities, this is the perfect location for those looking for a mix of city and suburban living.'\n",
      "nlocation='Los Angeles, California' style='Modern' rooms=6 bedrooms=3 bathrooms=2 floors=2 house_size=2000 price=500000 property_description=\"This beautiful modern home in the heart of Los Angeles features 3 bedrooms, 2 bathrooms, and 2 floors. With a spacious 2000 square feet, this home is perfect for a growing family. The sleek and stylish design is sure to impress. Don't miss out on this opportunity to own a piece of LA.\" neighborhood_description='Located in the trendy neighborhood of Silver Lake, this home is surrounded by hip restaurants, cafes, and shops. Enjoy the vibrant nightlife and easy access to downtown LA.'\n",
      "n"
     ]
    }
   ],
   "source": [
    "for generated_adverts in all_generated_adverts:\n",
    "    print(generated_adverts.adverts_list[0], end=\"\\nn\")"
   ]
  },
  {
   "cell_type": "markdown",
   "metadata": {},
   "source": [
    "## Save listings in a file"
   ]
  },
  {
   "cell_type": "markdown",
   "metadata": {},
   "source": [
    "Save the listings in a file."
   ]
  },
  {
   "cell_type": "code",
   "execution_count": 8,
   "metadata": {},
   "outputs": [],
   "source": [
    "filename = \"listings.jsonl\"\n",
    "with open(filename, \"w\") as save_file:\n",
    "    for generated_adverts in all_generated_adverts:\n",
    "        for advert in generated_adverts.adverts_list:\n",
    "            json.dump(advert.model_dump(mode=\"json\"), save_file)\n",
    "            save_file.write('\\n')\n",
    "    save_file.close()\n",
    "!cp {filename} listings.txt"
   ]
  },
  {
   "cell_type": "markdown",
   "metadata": {},
   "source": [
    "## Storing Listings in a Vector Database"
   ]
  },
  {
   "cell_type": "markdown",
   "metadata": {},
   "source": [
    "Launch the vector database and store the listings in it."
   ]
  },
  {
   "cell_type": "code",
   "execution_count": 9,
   "metadata": {},
   "outputs": [],
   "source": [
    "vector_store_directory = \"./chroma_langchain_db\"\n",
    "!rm -rf {vector_store_directory}\n",
    "\n",
    "embeddings = OpenAIEmbeddings(model=\"text-embedding-3-large\")\n",
    "vector_store = Chroma(\n",
    "    collection_name=\"real_estate\",\n",
    "    embedding_function=embeddings,\n",
    "    persist_directory=vector_store_directory,  # Where to save data locally, remove if not necessary\n",
    ")"
   ]
  },
  {
   "cell_type": "code",
   "execution_count": 10,
   "metadata": {},
   "outputs": [
    {
     "name": "stdout",
     "output_type": "stream",
     "text": [
      "20 documents added to the vector store\n"
     ]
    }
   ],
   "source": [
    "documents = []\n",
    "for generated_adverts, geo_context in zip(all_generated_adverts, requests_data):\n",
    "    for i, advert in enumerate(generated_adverts.adverts_list, start=1):\n",
    "        metadata = {}\n",
    "        metadata[\"source\"] = model_name\n",
    "        metadata[\"id\"] = i\n",
    "        \n",
    "        metadata[\"region\"] = geo_context[\"context\"]\n",
    "        metadata[\"location\"] = advert.location\n",
    "        metadata[\"style\"] = advert.style\n",
    "        metadata[\"rooms\"] = advert.rooms\n",
    "        metadata[\"bedrooms\"] = advert.bedrooms\n",
    "        metadata[\"bathrooms\"] = advert.bathrooms\n",
    "        metadata[\"floors\"] = advert.floors\n",
    "        metadata[\"house_size\"] = advert.house_size\n",
    "        metadata[\"price\"] = advert.price\n",
    "\n",
    "        page_content = advert.property_description + advert.neighborhood_description\n",
    "        documents.append(\n",
    "            Document(page_content=page_content, metadata=metadata)\n",
    "            )\n",
    "    \n",
    "uuids = [str(uuid4()) for _ in range(len(documents))]\n",
    "vector_store.add_documents(documents=documents, ids=uuids)\n",
    "print(f\"{len(documents)} documents added to the vector store\")"
   ]
  },
  {
   "cell_type": "markdown",
   "metadata": {},
   "source": [
    "Check the database to see if the listings are stored correctly."
   ]
  },
  {
   "cell_type": "code",
   "execution_count": 11,
   "metadata": {},
   "outputs": [
    {
     "name": "stdout",
     "output_type": "stream",
     "text": [
      "20 documents in the vector store\n"
     ]
    }
   ],
   "source": [
    "# Check if the vector store is already populated\n",
    "print(len(vector_store.get(where={\"source\": f\"{model_name}\"})[\"ids\"]), \"documents in the vector store\")"
   ]
  },
  {
   "cell_type": "markdown",
   "metadata": {},
   "source": [
    "## Handling the user query"
   ]
  },
  {
   "cell_type": "markdown",
   "metadata": {},
   "source": [
    "Change the query to your needs in `user_search_query` variable. Or use the `HomeMatch_clint.py` script to run the code using a user interface."
   ]
  },
  {
   "cell_type": "code",
   "execution_count": 12,
   "metadata": {},
   "outputs": [],
   "source": [
    "user_search_request = \"I'm looking for a modern-style house with a sea view for a large family. The house should be located in a quiet neighborhood in San Francisco, California. It should have at least 2 bathrooms and a large garden. The total area of the house should be at least 2500 square feet, and the price should not exceed $500,000.\""
   ]
  },
  {
   "cell_type": "markdown",
   "metadata": {},
   "source": [
    "An alternative way to search for ads based on the user's query would be to extract elements from specific descriptions and build a query based mainly on objective, factual, quantitative or nominal elements. For this, defining the structure of data receiving the user query analysis result."
   ]
  },
  {
   "cell_type": "code",
   "execution_count": 13,
   "metadata": {},
   "outputs": [],
   "source": [
    "class PropertySearchRequestClass(BaseModel):\n",
    "    location: str = Field(\n",
    "        description = \"location in USA including the name the neighborhood\"\n",
    "    )\n",
    "    style: str = Field(\n",
    "        description = \"style of construction\"\n",
    "    )\n",
    "    rooms: int = Field(\n",
    "        description = \"number of rooms\"\n",
    "    )\n",
    "    bedrooms: int = Field(\n",
    "        description = \"number of bedrooms\"\n",
    "    )\n",
    "    bathrooms: int = Field(\n",
    "        description = \"number of bathrooms\"\n",
    "    )\n",
    "    floors: int = Field(\n",
    "        description = \"number of floors\"\n",
    "    )\n",
    "    house_size: int = Field(\n",
    "        description = \"surface area in square feet\"\n",
    "    )\n",
    "    price: int = Field(\n",
    "        description = \"price in dollars\"\n",
    "    )"
   ]
  },
  {
   "cell_type": "code",
   "execution_count": 14,
   "metadata": {},
   "outputs": [],
   "source": [
    "parser = PydanticOutputParser(pydantic_object=PropertySearchRequestClass)\n",
    "\n",
    "analyzing_prompt_generator = PromptTemplate(\n",
    "    template=\"{query}\\n{format_instructions}\",\n",
    "    input_variables=[\"query\", \"context\"],\n",
    "    partial_variables={\"format_instructions\": parser.get_format_instructions},\n",
    ")\n",
    "\n",
    "def get_analyze_query(user_search_request):\n",
    "    return f\"\"\"\n",
    "find all available information as defined in the following output schema from this request :\"{user_search_request}\", in order to generate a corresponding filled json data structure. set -1 for any missing information.\n",
    "\"\"\""
   ]
  },
  {
   "cell_type": "markdown",
   "metadata": {},
   "source": [
    "Analyze the user query using the OpenAI model and store the result in a variable."
   ]
  },
  {
   "cell_type": "code",
   "execution_count": 15,
   "metadata": {},
   "outputs": [
    {
     "name": "stdout",
     "output_type": "stream",
     "text": [
      "Analyzed request:  \n",
      "{\"location\": \"San Francisco, California\", \"style\": \"modern\", \"rooms\": -1, \"bedrooms\": -1, \"bathrooms\": 2, \"floors\": -1, \"house_size\": 2500, \"price\": 500000}\n",
      "Parsed response:  location='San Francisco, California' style='modern' rooms=-1 bedrooms=-1 bathrooms=2 floors=-1 house_size=2500 price=500000\n"
     ]
    }
   ],
   "source": [
    "prompt = analyzing_prompt_generator.format(query=get_analyze_query(user_search_request))\n",
    "analyzed_request = llm.invoke(prompt)\n",
    "print(\"Analyzed request: \", analyzed_request)\n",
    "parsed_response = parser.parse(analyzed_request)\n",
    "print(\"Parsed response: \", parsed_response)"
   ]
  },
  {
   "cell_type": "markdown",
   "metadata": {},
   "source": [
    "Create a summary of the data detected in the user query."
   ]
  },
  {
   "cell_type": "code",
   "execution_count": 16,
   "metadata": {},
   "outputs": [
    {
     "name": "stdout",
     "output_type": "stream",
     "text": [
      "Your are looking a house like this : located in San Francisco, California, modern-style, 2 bathroom(s), 2500 square feet size, priced $500000\n"
     ]
    }
   ],
   "source": [
    "summary = []\n",
    "for k, v in vars(parsed_response).items():\n",
    "    if v != -1:\n",
    "        if k == \"location\":\n",
    "            summary.append(f\"located in {v}\")\n",
    "        elif k == \"style\":\n",
    "            summary.append(f\"{v}-style\")\n",
    "        elif k == \"rooms\":\n",
    "            summary.append(f\"{v} room(s)\")\n",
    "        elif k == \"bedrooms\":\n",
    "            summary.append(f\"{v} bedroom(s)\")\n",
    "        elif k == \"bathrooms\":\n",
    "            summary.append(f\"{v} bathroom(s)\")\n",
    "        elif k == \"floors\":\n",
    "            summary.append(f\"{v} floors\")\n",
    "        elif k == \"house_size\":\n",
    "            summary.append(f\"{v} square feet size\")\n",
    "        elif k == \"price\":\n",
    "            summary.append(f\"priced ${v}\")\n",
    "\n",
    "summary = \", \".join(summary)\n",
    "print(\"Your are looking a house like this :\", summary)"
   ]
  },
  {
   "cell_type": "markdown",
   "metadata": {},
   "source": [
    "## Searching Based on Preferences"
   ]
  },
  {
   "cell_type": "markdown",
   "metadata": {},
   "source": [
    "But finally we're going to perform a search based on the user's entire search query. So, search in the vector database the closest advertisements based on the semantic closeness."
   ]
  },
  {
   "cell_type": "code",
   "execution_count": 20,
   "metadata": {},
   "outputs": [
    {
     "name": "stdout",
     "output_type": "stream",
     "text": [
      "> This stunning contemporary home in Seattle boasts 4 bedrooms, 3 bathrooms, and 3 floors. With a spacious 3000 square feet, this home is perfect for a large family or those who love to entertain. The sleek and modern design is sure to impress.Located in the bustling neighborhood of Capitol Hill, this home is surrounded by trendy restaurants, bars, and shops. Enjoy the vibrant city life and easy access to public transportation. [{'id': 3, 'style': 'Contemporary', 'floors': 3, 'house_size': 3000, 'source': 'gpt-3.5-turbo-instruct', 'region': 'the West of the USA', 'bedrooms': 4, 'price': 800000, 'rooms': 7, 'bathrooms': 3, 'location': 'Seattle, Washington'}]\n",
      "\n",
      "> This beautiful modern home in the heart of Los Angeles features 3 bedrooms, 2 bathrooms, and 2 floors. With a spacious 2000 square feet, this home is perfect for a growing family. The sleek and stylish design is sure to impress. Don't miss out on this opportunity to own a piece of LA.Located in the trendy neighborhood of Silver Lake, this home is surrounded by hip restaurants, cafes, and shops. Enjoy the vibrant nightlife and easy access to downtown LA. [{'source': 'gpt-3.5-turbo-instruct', 'bathrooms': 2, 'rooms': 6, 'price': 500000, 'style': 'Modern', 'house_size': 2000, 'bedrooms': 3, 'id': 1, 'location': 'Los Angeles, California', 'region': 'the West of the USA', 'floors': 2}]\n",
      "\n",
      "> This stunning Victorian style home in New Orleans offers 6 bedrooms, 4 bathrooms, and 3 floors of living space. With 4000 square feet, this home is perfect for a large family or those who love to entertain. Enjoy the charm of the South with a large front porch and a backyard garden. Priced at $500,000, this home is a steal!Located in the historic district of New Orleans, this neighborhood is known for its beautiful architecture and lively atmosphere. Close to all the best restaurants and entertainment, this is the perfect location for those looking for a vibrant and cultural lifestyle. [{'floors': 3, 'bedrooms': 6, 'house_size': 4000, 'bathrooms': 4, 'source': 'gpt-3.5-turbo-instruct', 'price': 500000, 'rooms': 8, 'region': 'the South of the USA', 'id': 4, 'location': 'New Orleans, Louisiana', 'style': 'Victorian'}]\n",
      "\n"
     ]
    }
   ],
   "source": [
    "results = vector_store.similarity_search(\n",
    "    user_search_request,\n",
    "    k=3,\n",
    "    filter={\"source\": model_name},\n",
    ")\n",
    "for res in results:\n",
    "    print(f\"> {res.page_content} [{res.metadata}]\", end=\"\\n\\n\")"
   ]
  },
  {
   "cell_type": "markdown",
   "metadata": {},
   "source": [
    "## Personalizing Listing Descriptions"
   ]
  },
  {
   "cell_type": "markdown",
   "metadata": {},
   "source": [
    "Augment the listing descriptions with regard to the user preferences."
   ]
  },
  {
   "cell_type": "code",
   "execution_count": 26,
   "metadata": {},
   "outputs": [],
   "source": [
    "def get_response_augmentation_request(advertisement, search_request):\n",
    "    start_with_list = [\"Welcome to\", \"This wonderful\", \"This fantastic\", \"This awesome\", \"This incredible\"]\n",
    "    start_with = random.choice(start_with_list)\n",
    "    return f\"\"\"create a new description from this real estate advertisement {advertisement} in order to show that it matches the following search request: {search_request}, with respect to the information included in the advertisement. Add arguments in the new description to make it more attractive. it must be in a natural language format, and must not be a json object. The advertisement should be at least 100 words long, in only one paragraph. All the text is in English. Start with '{start_with}!'\"\"\""
   ]
  },
  {
   "cell_type": "code",
   "execution_count": 27,
   "metadata": {},
   "outputs": [
    {
     "name": "stdout",
     "output_type": "stream",
     "text": [
      "> augmented : This incredible contemporary home in Seattle is the perfect match for your search request! With 4 bedrooms, 3 bathrooms, and 3 floors, this spacious 3000 square foot home is ideal for a large family or those who love to entertain. The sleek and modern design will surely impress, and the stunning sea view from the large garden will take your breath away. Located in the bustling neighborhood of Capitol Hill, you'll have easy access to trendy restaurants, bars, and shops, while still enjoying a quiet and peaceful atmosphere. And the best part? This dream home is within your budget, priced at only $800,000. Don't miss out on the opportunity to live in this desirable location on the West Coast of the USA. Come see it for yourself in Seattle, Washington!\n",
      "\n",
      "> augmented : This wonderful modern home in the heart of Los Angeles is the perfect fit for a large family looking for a stylish and spacious living space. Boasting 3 bedrooms, 2 bathrooms, and 2 floors, this home offers a total of 2000 square feet of living space. The sleek and modern design is sure to impress, with its clean lines and contemporary finishes. Located in the trendy neighborhood of Silver Lake, this home offers easy access to the vibrant nightlife and bustling downtown LA. But that's not all, this home also features a stunning sea view and a large garden, making it the ideal oasis for relaxation and entertainment. Don't miss out on the opportunity to own this gem in the West of the USA.\n",
      "\n",
      "> augmented : This wonderful Victorian-style home in the heart of San Francisco, California offers everything you could dream of for your family. With 6 spacious bedrooms, 4 luxurious bathrooms, and 3 floors of living space, this home is perfect for a large family or those who love to entertain. The modern design and stunning sea views make this home a true gem. Enjoy the peacefulness of a quiet neighborhood while still being close to all the excitement of the city. The large garden is perfect for outdoor gatherings and the spacious layout of 4000 square feet provides plenty of room for everyone. Priced at just $500,000, this home is a steal in the highly sought-after San Francisco market. Don't miss out on the opportunity to make this your dream home!\n",
      "\n"
     ]
    }
   ],
   "source": [
    "for result in results:\n",
    "    metadata = result.metadata\n",
    "    metadata.pop('source', None)\n",
    "    metadata.pop('id', None)\n",
    "    advertisement = f\"{result.page_content} [{metadata}]\"\n",
    "    augmented_advert = llm.invoke(get_response_augmentation_request(advertisement, user_search_request))\n",
    "    print(\"> augmented :\", augmented_advert[2:], end=\"\\n\\n\")\n",
    "    sleep(2)"
   ]
  },
  {
   "cell_type": "code",
   "execution_count": null,
   "metadata": {},
   "outputs": [],
   "source": []
  }
 ],
 "metadata": {
  "kernelspec": {
   "display_name": "udacity_genai_p5",
   "language": "python",
   "name": "python3"
  },
  "language_info": {
   "codemirror_mode": {
    "name": "ipython",
    "version": 3
   },
   "file_extension": ".py",
   "mimetype": "text/x-python",
   "name": "python",
   "nbconvert_exporter": "python",
   "pygments_lexer": "ipython3",
   "version": "3.12.9"
  }
 },
 "nbformat": 4,
 "nbformat_minor": 2
}
