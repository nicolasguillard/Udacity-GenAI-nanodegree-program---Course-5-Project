{
 "cells": [
  {
   "cell_type": "markdown",
   "metadata": {},
   "source": [
    "Utilisation de pydantic pour forcer le LLM à mieux respecter un format qui sera transformé grâce à des mécanismes de LangChain."
   ]
  },
  {
   "cell_type": "code",
   "execution_count": 1,
   "metadata": {},
   "outputs": [],
   "source": [
    "import os\n",
    "os.environ[\"OPENAI_API_KEY\"] = \"voc-8162499801266773377505669655d3c05508.40840521\"\n",
    "os.environ[\"OPENAI_API_BASE\"] = \"https://openai.vocareum.com/v1\""
   ]
  },
  {
   "cell_type": "code",
   "execution_count": 2,
   "metadata": {},
   "outputs": [],
   "source": [
    "#from langchain_openai import OpenAI\n",
    "from langchain_openai import OpenAI\n",
    "from langchain.prompts import PromptTemplate\n",
    "from langchain.output_parsers import PydanticOutputParser\n",
    "from pydantic import BaseModel, Field\n",
    "import re"
   ]
  },
  {
   "cell_type": "code",
   "execution_count": 3,
   "metadata": {},
   "outputs": [],
   "source": [
    "num_ads = 3\n",
    "advert_separator = \"=======\""
   ]
  },
  {
   "cell_type": "code",
   "execution_count": 4,
   "metadata": {},
   "outputs": [],
   "source": [
    "model_name=\"gpt-3.5-turbo-instruct\" #gpt-4\n",
    "temperature = 0.0\n",
    "llm = OpenAI(\n",
    "    model_name=model_name, temperature=temperature, max_tokens=3000\n",
    ")"
   ]
  },
  {
   "cell_type": "code",
   "execution_count": 5,
   "metadata": {},
   "outputs": [],
   "source": [
    "class PropertyAdvertClass(BaseModel):\n",
    "    neighborhood: str = Field(\n",
    "        description = \"location in USA including the name the neighborhood\"\n",
    "    )\n",
    "    style: str = Field(\n",
    "        description = \"style of construction\"\n",
    "    )\n",
    "    rooms: int = Field(\n",
    "        description = \"number of rooms\"\n",
    "    )\n",
    "    bedrooms: int = Field(\n",
    "        description = \"number of bedrooms\"\n",
    "    )\n",
    "    bathrooms: int = Field(\n",
    "        description = \"number of bathrooms\"\n",
    "    )\n",
    "    floors: int = Field(\n",
    "        description = \"number of floors\"\n",
    "    )\n",
    "    house_size: str = Field(\n",
    "        description = \"surface area in square feet\"\n",
    "    )\n",
    "    price: str = Field(\n",
    "        description = \"price in dollars\"\n",
    "    )\n",
    "    property_description : str = Field(\n",
    "        description = \"a detailed description of the property\"\n",
    "    )\n",
    "    neighborhood_description : str = Field(\n",
    "        description = \"the neighborhood description\"\n",
    "    )"
   ]
  },
  {
   "cell_type": "code",
   "execution_count": 6,
   "metadata": {},
   "outputs": [
    {
     "name": "stdout",
     "output_type": "stream",
     "text": [
      "The output should be formatted as a JSON instance that conforms to the JSON schema below.\n",
      "\n",
      "As an example, for the schema {\"properties\": {\"foo\": {\"title\": \"Foo\", \"description\": \"a list of strings\", \"type\": \"array\", \"items\": {\"type\": \"string\"}}}, \"required\": [\"foo\"]}\n",
      "the object {\"foo\": [\"bar\", \"baz\"]} is a well-formatted instance of the schema. The object {\"properties\": {\"foo\": [\"bar\", \"baz\"]}} is not well-formatted.\n",
      "\n",
      "Here is the output schema:\n",
      "```\n",
      "{\"properties\": {\"neighborhood\": {\"description\": \"location in USA including the name the neighborhood\", \"title\": \"Neighborhood\", \"type\": \"string\"}, \"style\": {\"description\": \"style of construction\", \"title\": \"Style\", \"type\": \"string\"}, \"rooms\": {\"description\": \"number of rooms\", \"title\": \"Rooms\", \"type\": \"integer\"}, \"bedrooms\": {\"description\": \"number of bedrooms\", \"title\": \"Bedrooms\", \"type\": \"integer\"}, \"bathrooms\": {\"description\": \"number of bathrooms\", \"title\": \"Bathrooms\", \"type\": \"integer\"}, \"floors\": {\"description\": \"number of floors\", \"title\": \"Floors\", \"type\": \"integer\"}, \"house_size\": {\"description\": \"surface area in square feet\", \"title\": \"House Size\", \"type\": \"string\"}, \"price\": {\"description\": \"price in dollars\", \"title\": \"Price\", \"type\": \"string\"}, \"property_description\": {\"description\": \"a detailed description of the property\", \"title\": \"Property Description\", \"type\": \"string\"}, \"neighborhood_description\": {\"description\": \"the neighborhood description\", \"title\": \"Neighborhood Description\", \"type\": \"string\"}}, \"required\": [\"neighborhood\", \"style\", \"rooms\", \"bedrooms\", \"bathrooms\", \"floors\", \"house_size\", \"price\", \"property_description\", \"neighborhood_description\"]}\n",
      "```\n"
     ]
    }
   ],
   "source": [
    "parser = PydanticOutputParser(pydantic_object=PropertyAdvertClass)\n",
    "print(parser.get_format_instructions())"
   ]
  },
  {
   "cell_type": "code",
   "execution_count": 7,
   "metadata": {},
   "outputs": [],
   "source": [
    "prompt = PromptTemplate(\n",
    "    template=\"{question}\\n{format_instructions}\",\n",
    "    input_variables=[\"question\", \"context\"],\n",
    "    partial_variables={\"format_instructions\": parser.get_format_instructions},\n",
    ")"
   ]
  },
  {
   "cell_type": "code",
   "execution_count": 8,
   "metadata": {},
   "outputs": [
    {
     "name": "stdout",
     "output_type": "stream",
     "text": [
      "\n",
      "    generate 3 property advertisements for middle-class buyers.\n",
      "    be creative in your descriptions but consistent and realistic.\n",
      "\n",
      "The output should be formatted as a JSON instance that conforms to the JSON schema below.\n",
      "\n",
      "As an example, for the schema {\"properties\": {\"foo\": {\"title\": \"Foo\", \"description\": \"a list of strings\", \"type\": \"array\", \"items\": {\"type\": \"string\"}}}, \"required\": [\"foo\"]}\n",
      "the object {\"foo\": [\"bar\", \"baz\"]} is a well-formatted instance of the schema. The object {\"properties\": {\"foo\": [\"bar\", \"baz\"]}} is not well-formatted.\n",
      "\n",
      "Here is the output schema:\n",
      "```\n",
      "{\"properties\": {\"neighborhood\": {\"description\": \"location in USA including the name the neighborhood\", \"title\": \"Neighborhood\", \"type\": \"string\"}, \"style\": {\"description\": \"style of construction\", \"title\": \"Style\", \"type\": \"string\"}, \"rooms\": {\"description\": \"number of rooms\", \"title\": \"Rooms\", \"type\": \"integer\"}, \"bedrooms\": {\"description\": \"number of bedrooms\", \"title\": \"Bedrooms\", \"type\": \"integer\"}, \"bathrooms\": {\"description\": \"number of bathrooms\", \"title\": \"Bathrooms\", \"type\": \"integer\"}, \"floors\": {\"description\": \"number of floors\", \"title\": \"Floors\", \"type\": \"integer\"}, \"house_size\": {\"description\": \"surface area in square feet\", \"title\": \"House Size\", \"type\": \"string\"}, \"price\": {\"description\": \"price in dollars\", \"title\": \"Price\", \"type\": \"string\"}, \"property_description\": {\"description\": \"a detailed description of the property\", \"title\": \"Property Description\", \"type\": \"string\"}, \"neighborhood_description\": {\"description\": \"the neighborhood description\", \"title\": \"Neighborhood Description\", \"type\": \"string\"}}, \"required\": [\"neighborhood\", \"style\", \"rooms\", \"bedrooms\", \"bathrooms\", \"floors\", \"house_size\", \"price\", \"property_description\", \"neighborhood_description\"]}\n",
      "```\n"
     ]
    }
   ],
   "source": [
    "question = f\"\"\"\n",
    "    generate {num_ads} property advertisements for middle-class buyers.\n",
    "    be creative in your descriptions but consistent and realistic.\n",
    "\"\"\"\n",
    "query = prompt.format(question=question)\n",
    "print(query)"
   ]
  },
  {
   "cell_type": "code",
   "execution_count": 9,
   "metadata": {},
   "outputs": [],
   "source": [
    "generated_adverts = llm.invoke(query)"
   ]
  },
  {
   "cell_type": "code",
   "execution_count": 10,
   "metadata": {},
   "outputs": [
    {
     "name": "stdout",
     "output_type": "stream",
     "text": [
      "\n",
      "{\n",
      "    \"neighborhood\": \"Brooklyn Heights, New York\",\n",
      "    \"style\": \"Victorian Townhouse\",\n",
      "    \"rooms\": 8,\n",
      "    \"bedrooms\": 4,\n",
      "    \"bathrooms\": 2,\n",
      "    \"floors\": 3,\n",
      "    \"house_size\": \"2,500 sqft\",\n",
      "    \"price\": \"$1,200,000\",\n",
      "    \"property_description\": \"Welcome to your dream home in the charming and historic neighborhood of Brooklyn Heights. This stunning Victorian townhouse boasts 4 spacious bedrooms, 2 luxurious bathrooms, and 3 levels of living space. The elegant and timeless design features high ceilings, original hardwood floors, and intricate moldings. Enjoy cooking in the gourmet kitchen with top-of-the-line appliances and entertain guests in the formal dining room. Relax in the beautifully landscaped backyard oasis or take a stroll to the nearby parks and waterfront. Don't miss out on the opportunity to own a piece of Brooklyn's rich history.\",\n",
      "    \"neighborhood_description\": \"Brooklyn Heights is known for its picturesque tree-lined streets, historic brownstones, and stunning views of the Manhattan skyline. This family-friendly neighborhood offers a peaceful and serene atmosphere while still being just a short commute to the hustle and bustle of the city. With a variety of restaurants, shops, and cultural attractions, Brooklyn Heights has something for everyone.\"\n",
      "},\n",
      "{\n",
      "    \"neighborhood\": \"Buckhead, Atlanta\",\n",
      "    \"style\": \"Modern Condo\",\n",
      "    \"rooms\": 5,\n",
      "    \"bedrooms\": 2,\n",
      "    \"bathrooms\": 2,\n",
      "    \"floors\": 1,\n",
      "    \"house_size\": \"1,200 sqft\",\n",
      "    \"price\": \"$500,000\",\n",
      "    \"property_description\": \"Experience luxury living in the heart of Buckhead with this modern and sleek condo. The open floor plan and floor-to-ceiling windows provide an abundance of natural light and stunning views of the city. The chef's kitchen features high-end appliances and a large island, perfect for entertaining. The spacious master suite offers a spa-like bathroom and a walk-in closet. Enjoy the building's amenities including a rooftop pool, fitness center, and concierge service. With its prime location, you'll have easy access to the best restaurants, shopping, and entertainment that Atlanta has to offer.\",\n",
      "    \"neighborhood_description\": \"Buckhead is one of Atlanta's most affluent and sought-after neighborhoods. Known for its upscale shopping, fine dining, and vibrant nightlife, Buckhead offers a luxurious and cosmopolitan lifestyle. With its convenient location and top-rated schools, it's the perfect place for young professionals and families alike.\"\n",
      "},\n",
      "{\n",
      "    \"neighborhood\": \"Old Town, Chicago\",\n",
      "    \"style\": \"Vintage Brownstone\",\n",
      "    \"rooms\": 6,\n",
      "    \"bedrooms\": 3,\n",
      "    \"bathrooms\": 2,\n",
      "    \"floors\": 2,\n",
      "    \"house_size\": \"1,800 sqft\",\n",
      "    \"price\": \"$800,000\",\n",
      "    \"property_description\": \"Step back in time with this charming vintage brownstone in the heart of Old Town. This 3 bedroom, 2 bathroom home features original hardwood floors, exposed brick walls, and a cozy fireplace. The updated kitchen boasts stainless steel appliances and a breakfast bar. The spacious master suite offers a private balcony and a newly renovated bathroom. Enjoy the convenience of a private garage and a beautifully landscaped backyard. With its prime location, you'll be just steps away from the best restaurants, shops, and entertainment that Old Town has to offer.\",\n",
      "    \"neighborhood_description\": \"Old Town is a historic and vibrant neighborhood in Chicago known for its beautiful architecture, lively entertainment, and diverse community. With its tree-lined streets, quaint shops, and bustling nightlife, it's the perfect blend of old and new. Enjoy easy access to public transportation and all that the city has to offer while still having a peaceful and charming place to call home.\" \n",
      "}\n"
     ]
    }
   ],
   "source": [
    "print(generated_adverts)"
   ]
  },
  {
   "cell_type": "code",
   "execution_count": 11,
   "metadata": {},
   "outputs": [
    {
     "name": "stdout",
     "output_type": "stream",
     "text": [
      "0\n"
     ]
    }
   ],
   "source": [
    "pattern = r\"```json(.*?)```\"\n",
    "matches = re.findall(pattern, generated_adverts, re.DOTALL)\n",
    "print(len(matches))\n",
    "for match in matches:\n",
    "    print(match.strip())"
   ]
  },
  {
   "cell_type": "code",
   "execution_count": 12,
   "metadata": {},
   "outputs": [],
   "source": [
    "result = parser.parse(generated_adverts)"
   ]
  },
  {
   "cell_type": "code",
   "execution_count": 13,
   "metadata": {},
   "outputs": [],
   "source": [
    "def parse_advert(str_advert: str) -> dict:\n",
    "    advert = {}\n",
    "    features = [\n",
    "        \"Index\",\n",
    "        \"Neighborhood\",\n",
    "        \"Style\",\n",
    "        \"Rooms\",\n",
    "        \"Bedrooms\",\n",
    "        \"Bathrooms\",\n",
    "        \"House Size\",\n",
    "        \"Price\",\n",
    "        \"Real Estate Description\",\n",
    "        \"Neighborhood Description\"\n",
    "        ]\n",
    "    regex_features = [r\"^.*Advert #(\\d+):.*$\"]\n",
    "    regex_features += ([re.compile(f\"^{str}:\\s*(.*)$\") for str in features[1:]])\n",
    "    \n",
    "    split = str_advert.split(\"\\n\")\n",
    "    for row in split:\n",
    "        for feature, regex_feature in zip(features, regex_features):\n",
    "            result = re.match(regex_feature, row)\n",
    "            if result:\n",
    "                advert[feature] = result.group(1)\n",
    "                break\n",
    "\n",
    "    #advert[\"Advert text\"] = \"\\n\".join(split[1:])\n",
    "    return advert\n",
    "    "
   ]
  },
  {
   "cell_type": "code",
   "execution_count": 14,
   "metadata": {},
   "outputs": [
    {
     "name": "stdout",
     "output_type": "stream",
     "text": [
      "{\n",
      "    \"neighborhood\": \"Brooklyn Heights, New York\",\n",
      "    \"style\": \"Victorian Townhouse\",\n",
      "    \"rooms\": 8,\n",
      "    \"bedrooms\": 4,\n",
      "    \"bathrooms\": 2,\n",
      "    \"floors\": 3,\n",
      "    \"house_size\": \"2,500 sqft\",\n",
      "    \"price\": \"$1,200,000\",\n",
      "    \"property_description\": \"Welcome to your dream home in the charming and historic neighborhood of Brooklyn Heights. This stunning Victorian townhouse boasts 4 spacious bedrooms, 2 luxurious bathrooms, and 3 levels of living space. The elegant and timeless design features high ceilings, original hardwood floors, and intricate moldings. Enjoy cooking in the gourmet kitchen with top-of-the-line appliances and entertain guests in the formal dining room. Relax in the beautifully landscaped backyard oasis or take a stroll to the nearby parks and waterfront. Don't miss out on the opportunity to own a piece of Brooklyn's rich history.\",\n",
      "    \"neighborhood_description\": \"Brooklyn Heights is known for its picturesque tree-lined streets, historic brownstones, and stunning views of the Manhattan skyline. This family-friendly neighborhood offers a peaceful and serene atmosphere while still being just a short commute to the hustle and bustle of the city. With a variety of restaurants, shops, and cultural attractions, Brooklyn Heights has something for everyone.\"\n",
      "},\n",
      "{\n",
      "    \"neighborhood\": \"Buckhead, Atlanta\",\n",
      "    \"style\": \"Modern Condo\",\n",
      "    \"rooms\": 5,\n",
      "    \"bedrooms\": 2,\n",
      "    \"bathrooms\": 2,\n",
      "    \"floors\": 1,\n",
      "    \"house_size\": \"1,200 sqft\",\n",
      "    \"price\": \"$500,000\",\n",
      "    \"property_description\": \"Experience luxury living in the heart of Buckhead with this modern and sleek condo. The open floor plan and floor-to-ceiling windows provide an abundance of natural light and stunning views of the city. The chef's kitchen features high-end appliances and a large island, perfect for entertaining. The spacious master suite offers a spa-like bathroom and a walk-in closet. Enjoy the building's amenities including a rooftop pool, fitness center, and concierge service. With its prime location, you'll have easy access to the best restaurants, shopping, and entertainment that Atlanta has to offer.\",\n",
      "    \"neighborhood_description\": \"Buckhead is one of Atlanta's most affluent and sought-after neighborhoods. Known for its upscale shopping, fine dining, and vibrant nightlife, Buckhead offers a luxurious and cosmopolitan lifestyle. With its convenient location and top-rated schools, it's the perfect place for young professionals and families alike.\"\n",
      "},\n",
      "{\n",
      "    \"neighborhood\": \"Old Town, Chicago\",\n",
      "    \"style\": \"Vintage Brownstone\",\n",
      "    \"rooms\": 6,\n",
      "    \"bedrooms\": 3,\n",
      "    \"bathrooms\": 2,\n",
      "    \"floors\": 2,\n",
      "    \"house_size\": \"1,800 sqft\",\n",
      "    \"price\": \"$800,000\",\n",
      "    \"property_description\": \"Step back in time with this charming vintage brownstone in the heart of Old Town. This 3 bedroom, 2 bathroom home features original hardwood floors, exposed brick walls, and a cozy fireplace. The updated kitchen boasts stainless steel appliances and a breakfast bar. The spacious master suite offers a private balcony and a newly renovated bathroom. Enjoy the convenience of a private garage and a beautifully landscaped backyard. With its prime location, you'll be just steps away from the best restaurants, shops, and entertainment that Old Town has to offer.\",\n",
      "    \"neighborhood_description\": \"Old Town is a historic and vibrant neighborhood in Chicago known for its beautiful architecture, lively entertainment, and diverse community. With its tree-lined streets, quaint shops, and bustling nightlife, it's the perfect blend of old and new. Enjoy easy access to public transportation and all that the city has to offer while still having a peaceful and charming place to call home.\" \n",
      "}\n"
     ]
    },
    {
     "data": {
      "text/plain": [
       "{}"
      ]
     },
     "execution_count": 14,
     "metadata": {},
     "output_type": "execute_result"
    }
   ],
   "source": [
    "generated_adverts_list = [ads.strip() for ads in generated_adverts.split(advert_separator)]\n",
    "print(generated_adverts_list[0])\n",
    "parse_advert(generated_adverts_list[0].strip())"
   ]
  },
  {
   "cell_type": "code",
   "execution_count": 15,
   "metadata": {},
   "outputs": [
    {
     "name": "stdout",
     "output_type": "stream",
     "text": [
      "1\n"
     ]
    }
   ],
   "source": [
    "print(len(generated_adverts_list))"
   ]
  },
  {
   "cell_type": "code",
   "execution_count": 16,
   "metadata": {},
   "outputs": [],
   "source": [
    "import json"
   ]
  },
  {
   "cell_type": "code",
   "execution_count": 17,
   "metadata": {},
   "outputs": [
    {
     "name": "stdout",
     "output_type": "stream",
     "text": [
      "{}\n"
     ]
    }
   ],
   "source": [
    "generated_adverts_json = [parse_advert(advert.strip()) for advert in generated_adverts_list if advert]\n",
    "for adv in generated_adverts_json:\n",
    "    print(json.dumps(adv, indent=2))"
   ]
  },
  {
   "cell_type": "code",
   "execution_count": 20,
   "metadata": {},
   "outputs": [],
   "source": [
    "filename = \"generated_adverts_b.jsonl\"\n",
    "with open(filename, \"w\") as save_file:\n",
    "    for generated_advert_json in generated_adverts_json:\n",
    "        json.dump(generated_advert_json, save_file)\n",
    "        save_file.write('\\n')\n",
    "save_file.close()"
   ]
  },
  {
   "cell_type": "code",
   "execution_count": 19,
   "metadata": {},
   "outputs": [
    {
     "name": "stdout",
     "output_type": "stream",
     "text": [
      "{}\n"
     ]
    }
   ],
   "source": [
    "with open(filename, \"r\") as file:\n",
    "    for line in file:\n",
    "        data_entry = json.loads(line)\n",
    "        # Process each data_entry as a Python dict\n",
    "        print(data_entry)"
   ]
  },
  {
   "cell_type": "code",
   "execution_count": null,
   "metadata": {},
   "outputs": [],
   "source": []
  }
 ],
 "metadata": {
  "kernelspec": {
   "display_name": "udacity_cnn_project",
   "language": "python",
   "name": "python3"
  },
  "language_info": {
   "codemirror_mode": {
    "name": "ipython",
    "version": 3
   },
   "file_extension": ".py",
   "mimetype": "text/x-python",
   "name": "python",
   "nbconvert_exporter": "python",
   "pygments_lexer": "ipython3",
   "version": "3.11.8"
  }
 },
 "nbformat": 4,
 "nbformat_minor": 2
}
