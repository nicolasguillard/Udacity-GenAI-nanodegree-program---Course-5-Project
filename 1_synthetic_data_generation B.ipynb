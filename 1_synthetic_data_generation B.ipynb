{
 "cells": [
  {
   "cell_type": "markdown",
   "metadata": {},
   "source": [
    "Utilisation de pydantic pour forcer le LLM à mieux respecter un format qui sera transformé grâce à des mécanismes de LangChain."
   ]
  },
  {
   "cell_type": "code",
   "execution_count": 1,
   "metadata": {},
   "outputs": [],
   "source": [
    "import os\n",
    "os.environ[\"OPENAI_API_KEY\"] = \"voc-8162499801266773377505669655d3c05508.40840521\"\n",
    "os.environ[\"OPENAI_API_BASE\"] = \"https://openai.vocareum.com/v1\""
   ]
  },
  {
   "cell_type": "code",
   "execution_count": 2,
   "metadata": {},
   "outputs": [],
   "source": [
    "#from langchain_openai import OpenAI\n",
    "from langchain_openai import OpenAI\n",
    "from langchain.prompts import PromptTemplate\n",
    "from langchain.output_parsers import PydanticOutputParser\n",
    "from pydantic import BaseModel, Field"
   ]
  },
  {
   "cell_type": "code",
   "execution_count": 3,
   "metadata": {},
   "outputs": [],
   "source": [
    "model_name=\"gpt-3.5-turbo-instruct\"\n",
    "#model_name=\"gpt-4o-mini\"\n",
    "temperature = 0.0\n",
    "llm = OpenAI(\n",
    "    model_name=model_name, temperature=temperature, max_tokens=3500\n",
    ")"
   ]
  },
  {
   "cell_type": "code",
   "execution_count": 4,
   "metadata": {},
   "outputs": [],
   "source": [
    "class PropertyAdvertClass(BaseModel):\n",
    "    location: str = Field(\n",
    "        description = \"location in USA including the name the neighborhood\"\n",
    "    )\n",
    "    style: str = Field(\n",
    "        description = \"style of construction\"\n",
    "    )\n",
    "    rooms: int = Field(\n",
    "        description = \"number of rooms\"\n",
    "    )\n",
    "    bedrooms: int = Field(\n",
    "        description = \"number of bedrooms\"\n",
    "    )\n",
    "    bathrooms: int = Field(\n",
    "        description = \"number of bathrooms\"\n",
    "    )\n",
    "    floors: int = Field(\n",
    "        description = \"number of floors\"\n",
    "    )\n",
    "    house_size: int = Field(\n",
    "        description = \"surface area in square feet\"\n",
    "    )\n",
    "    price: int = Field(\n",
    "        description = \"price in dollars\"\n",
    "    )\n",
    "    property_description : str = Field(\n",
    "        description = \"a detailed description of the property\"\n",
    "    )\n",
    "    neighborhood_description : str = Field(\n",
    "        description = \"the neighborhood description\"\n",
    "    )\n",
    "\n",
    "class ListOfAdvertsClass(BaseModel):\n",
    "    adverts_list: list[PropertyAdvertClass]"
   ]
  },
  {
   "cell_type": "markdown",
   "metadata": {},
   "source": [
    "```python\n",
    "complete_advert : str = Field(\n",
    "    description = \"the complete detailled description of this advertisement, including the neightborhood location, style, rooms, bedrooms, bathrooms, floors, house_size, price, and property and nieghtborhood descriptions\"\n",
    ")\n",
    "\n",
    "description = \"the complete detailled description of this advertisement, including the neightborhood location, style, rooms, bedrooms, bathrooms, floors, house_size, price, and property and nieghtborhood descriptions\"\n",
    "\n",
    "```"
   ]
  },
  {
   "cell_type": "code",
   "execution_count": 5,
   "metadata": {},
   "outputs": [
    {
     "name": "stdout",
     "output_type": "stream",
     "text": [
      "The output should be formatted as a JSON instance that conforms to the JSON schema below.\n",
      "\n",
      "As an example, for the schema {\"properties\": {\"foo\": {\"title\": \"Foo\", \"description\": \"a list of strings\", \"type\": \"array\", \"items\": {\"type\": \"string\"}}}, \"required\": [\"foo\"]}\n",
      "the object {\"foo\": [\"bar\", \"baz\"]} is a well-formatted instance of the schema. The object {\"properties\": {\"foo\": [\"bar\", \"baz\"]}} is not well-formatted.\n",
      "\n",
      "Here is the output schema:\n",
      "```\n",
      "{\"$defs\": {\"PropertyAdvertClass\": {\"properties\": {\"location\": {\"description\": \"location in USA including the name the neighborhood\", \"title\": \"Location\", \"type\": \"string\"}, \"style\": {\"description\": \"style of construction\", \"title\": \"Style\", \"type\": \"string\"}, \"rooms\": {\"description\": \"number of rooms\", \"title\": \"Rooms\", \"type\": \"integer\"}, \"bedrooms\": {\"description\": \"number of bedrooms\", \"title\": \"Bedrooms\", \"type\": \"integer\"}, \"bathrooms\": {\"description\": \"number of bathrooms\", \"title\": \"Bathrooms\", \"type\": \"integer\"}, \"floors\": {\"description\": \"number of floors\", \"title\": \"Floors\", \"type\": \"integer\"}, \"house_size\": {\"description\": \"surface area in square feet\", \"title\": \"House Size\", \"type\": \"integer\"}, \"price\": {\"description\": \"price in dollars\", \"title\": \"Price\", \"type\": \"integer\"}, \"property_description\": {\"description\": \"a detailed description of the property\", \"title\": \"Property Description\", \"type\": \"string\"}, \"neighborhood_description\": {\"description\": \"the neighborhood description\", \"title\": \"Neighborhood Description\", \"type\": \"string\"}}, \"required\": [\"location\", \"style\", \"rooms\", \"bedrooms\", \"bathrooms\", \"floors\", \"house_size\", \"price\", \"property_description\", \"neighborhood_description\"], \"title\": \"PropertyAdvertClass\", \"type\": \"object\"}}, \"properties\": {\"adverts_list\": {\"items\": {\"$ref\": \"#/$defs/PropertyAdvertClass\"}, \"title\": \"Adverts List\", \"type\": \"array\"}}, \"required\": [\"adverts_list\"]}\n",
      "```\n"
     ]
    }
   ],
   "source": [
    "parser = PydanticOutputParser(pydantic_object=ListOfAdvertsClass)\n",
    "print(parser.get_format_instructions())"
   ]
  },
  {
   "cell_type": "code",
   "execution_count": 6,
   "metadata": {},
   "outputs": [],
   "source": [
    "gen_prompt = PromptTemplate(\n",
    "    template=\"{question}.{context}\\n{format_instructions}\",\n",
    "    input_variables=[\"question\", \"context\"],\n",
    "    partial_variables={\"format_instructions\": parser.get_format_instructions},\n",
    ")"
   ]
  },
  {
   "cell_type": "code",
   "execution_count": 7,
   "metadata": {},
   "outputs": [
    {
     "name": "stdout",
     "output_type": "stream",
     "text": [
      "\n",
      "    generate 2 real estate advertisements for middle-class buyers, each respecting the output schema. be creative in your descriptions but consistent and realistic.\n",
      ".the following is a list of properties for sale in the USA.\n",
      "The output should be formatted as a JSON instance that conforms to the JSON schema below.\n",
      "\n",
      "As an example, for the schema {\"properties\": {\"foo\": {\"title\": \"Foo\", \"description\": \"a list of strings\", \"type\": \"array\", \"items\": {\"type\": \"string\"}}}, \"required\": [\"foo\"]}\n",
      "the object {\"foo\": [\"bar\", \"baz\"]} is a well-formatted instance of the schema. The object {\"properties\": {\"foo\": [\"bar\", \"baz\"]}} is not well-formatted.\n",
      "\n",
      "Here is the output schema:\n",
      "```\n",
      "{\"$defs\": {\"PropertyAdvertClass\": {\"properties\": {\"location\": {\"description\": \"location in USA including the name the neighborhood\", \"title\": \"Location\", \"type\": \"string\"}, \"style\": {\"description\": \"style of construction\", \"title\": \"Style\", \"type\": \"string\"}, \"rooms\": {\"description\": \"number of rooms\", \"title\": \"Rooms\", \"type\": \"integer\"}, \"bedrooms\": {\"description\": \"number of bedrooms\", \"title\": \"Bedrooms\", \"type\": \"integer\"}, \"bathrooms\": {\"description\": \"number of bathrooms\", \"title\": \"Bathrooms\", \"type\": \"integer\"}, \"floors\": {\"description\": \"number of floors\", \"title\": \"Floors\", \"type\": \"integer\"}, \"house_size\": {\"description\": \"surface area in square feet\", \"title\": \"House Size\", \"type\": \"integer\"}, \"price\": {\"description\": \"price in dollars\", \"title\": \"Price\", \"type\": \"integer\"}, \"property_description\": {\"description\": \"a detailed description of the property\", \"title\": \"Property Description\", \"type\": \"string\"}, \"neighborhood_description\": {\"description\": \"the neighborhood description\", \"title\": \"Neighborhood Description\", \"type\": \"string\"}}, \"required\": [\"location\", \"style\", \"rooms\", \"bedrooms\", \"bathrooms\", \"floors\", \"house_size\", \"price\", \"property_description\", \"neighborhood_description\"], \"title\": \"PropertyAdvertClass\", \"type\": \"object\"}}, \"properties\": {\"adverts_list\": {\"items\": {\"$ref\": \"#/$defs/PropertyAdvertClass\"}, \"title\": \"Adverts List\", \"type\": \"array\"}}, \"required\": [\"adverts_list\"]}\n",
      "```\n",
      "\n",
      "{\n",
      "  \"adverts_list\": [\n",
      "    {\n",
      "      \"location\": \"Brooklyn, New York\",\n",
      "      \"style\": \"Victorian\",\n",
      "      \"rooms\": 6,\n",
      "      \"bedrooms\": 3,\n",
      "      \"bathrooms\": 2,\n",
      "      \"floors\": 2,\n",
      "      \"house_size\": 2000,\n",
      "      \"price\": 500000,\n",
      "      \"property_description\": \"This charming Victorian home is located in the heart of Brooklyn. With 3 spacious bedrooms and 2 full bathrooms, this home is perfect for a growing family. The beautiful hardwood floors and original crown molding add character and charm to the home. The backyard is perfect for entertaining and the neighborhood is filled with friendly neighbors and great schools.\",\n",
      "      \"neighborhood_description\": \"The neighborhood of Brooklyn is known for its diverse community and vibrant culture. With plenty of restaurants, shops, and parks, there is always something to do. The area is also home to some of the best schools in the city, making it a great place for families.\"\n",
      "    },\n",
      "    {\n",
      "      \"location\": \"Chicago, Illinois\",\n",
      "      \"style\": \"Craftsman\",\n",
      "      \"rooms\": 5,\n",
      "      \"bedrooms\": 2,\n",
      "      \"bathrooms\": 1,\n",
      "      \"floors\": 1,\n",
      "      \"house_size\": 1500,\n",
      "      \"price\": 350000,\n",
      "      \"property_description\": \"This cozy Craftsman home is located in the quiet suburbs of Chicago. With 2 bedrooms and 1 bathroom, this home is perfect for a small family or a couple looking to downsize. The open floor plan and large windows allow for plenty of natural light, making the home feel spacious and inviting. The backyard is perfect for gardening and the neighborhood is peaceful and safe.\",\n",
      "      \"neighborhood_description\": \"The suburbs of Chicago offer a peaceful and family-friendly atmosphere. With plenty of parks and community events, there is always something to do. The area is also known for its great schools and low crime rates, making it a great place to raise a family.\" \n",
      "    }\n",
      "  ]\n",
      "}\n"
     ]
    }
   ],
   "source": [
    "# each information and descriptions of an advertisement must be repeated in a new complete description set in the 'complete_advert' property.\n",
    "\n",
    "num_ads = 2\n",
    "adverts_query = f\"\"\"\n",
    "    generate {num_ads} real estate advertisements for middle-class buyers, each respecting the output schema. be creative in your descriptions but consistent and realistic.\n",
    "\"\"\"\n",
    "\n",
    "#chain = prompt | llm | parser\n",
    "\n",
    "prompt = gen_prompt.format(question=adverts_query, context=\"the following is a list of properties for sale in the USA.\")\n",
    "print(prompt)\n",
    "\n",
    "generated_adverts = llm.invoke(prompt)\n",
    "print(generated_adverts)"
   ]
  },
  {
   "cell_type": "code",
   "execution_count": 8,
   "metadata": {},
   "outputs": [],
   "source": [
    "generated_adverts = parser.parse(generated_adverts)"
   ]
  },
  {
   "cell_type": "code",
   "execution_count": 9,
   "metadata": {},
   "outputs": [
    {
     "name": "stdout",
     "output_type": "stream",
     "text": [
      "> This charming Victorian home is located in the heart of Brooklyn. With 3 spacious bedrooms and 2 full bathrooms, this home is perfect for a growing family. The beautiful hardwood floors and original crown molding add character and charm to the home. The backyard is perfect for entertaining and the neighborhood is filled with friendly neighbors and great schools.\n",
      "\n",
      "> The neighborhood of Brooklyn is known for its diverse community and vibrant culture. With plenty of restaurants, shops, and parks, there is always something to do. The area is also home to some of the best schools in the city, making it a great place for families.\n",
      "\n"
     ]
    }
   ],
   "source": [
    "print(\">\", generated_adverts.adverts_list[0].property_description, end=\"\\n\\n\")\n",
    "print(\">\", generated_adverts.adverts_list[0].neighborhood_description, end=\"\\n\\n\")"
   ]
  },
  {
   "cell_type": "code",
   "execution_count": 10,
   "metadata": {},
   "outputs": [],
   "source": [
    "import json\n",
    "filename = \"generated_adverts_b.jsonl\"\n",
    "with open(filename, \"w\") as save_file:\n",
    "    for advert in generated_adverts.adverts_list:\n",
    "        json.dump(advert.model_dump(mode=\"json\"), save_file)\n",
    "        save_file.write('\\n')\n",
    "save_file.close()"
   ]
  },
  {
   "cell_type": "code",
   "execution_count": 11,
   "metadata": {},
   "outputs": [
    {
     "name": "stdout",
     "output_type": "stream",
     "text": [
      "{'location': 'Brooklyn, New York', 'style': 'Victorian', 'rooms': 6, 'bedrooms': 3, 'bathrooms': 2, 'floors': 2, 'house_size': 2000, 'price': 500000, 'property_description': 'This charming Victorian home is located in the heart of Brooklyn. With 3 spacious bedrooms and 2 full bathrooms, this home is perfect for a growing family. The beautiful hardwood floors and original crown molding add character and charm to the home. The backyard is perfect for entertaining and the neighborhood is filled with friendly neighbors and great schools.', 'neighborhood_description': 'The neighborhood of Brooklyn is known for its diverse community and vibrant culture. With plenty of restaurants, shops, and parks, there is always something to do. The area is also home to some of the best schools in the city, making it a great place for families.'}\n",
      "{'location': 'Chicago, Illinois', 'style': 'Craftsman', 'rooms': 5, 'bedrooms': 2, 'bathrooms': 1, 'floors': 1, 'house_size': 1500, 'price': 350000, 'property_description': 'This cozy Craftsman home is located in the quiet suburbs of Chicago. With 2 bedrooms and 1 bathroom, this home is perfect for a small family or a couple looking to downsize. The open floor plan and large windows allow for plenty of natural light, making the home feel spacious and inviting. The backyard is perfect for gardening and the neighborhood is peaceful and safe.', 'neighborhood_description': 'The suburbs of Chicago offer a peaceful and family-friendly atmosphere. With plenty of parks and community events, there is always something to do. The area is also known for its great schools and low crime rates, making it a great place to raise a family.'}\n"
     ]
    }
   ],
   "source": [
    "with open(filename, \"r\") as file:\n",
    "    for line in file:\n",
    "        data_entry = json.loads(line)\n",
    "        # Process each data_entry as a Python dict\n",
    "        print(data_entry)"
   ]
  },
  {
   "cell_type": "code",
   "execution_count": 12,
   "metadata": {},
   "outputs": [],
   "source": [
    "from langchain_openai import OpenAIEmbeddings\n",
    "from langchain_chroma import Chroma"
   ]
  },
  {
   "cell_type": "code",
   "execution_count": 13,
   "metadata": {},
   "outputs": [],
   "source": [
    "embeddings = OpenAIEmbeddings(model=\"text-embedding-3-large\")\n",
    "\n",
    "vector_store = Chroma(\n",
    "    collection_name=\"example_collection\",\n",
    "    embedding_function=embeddings,\n",
    "    persist_directory=\"./chroma_langchain_db\",  # Where to save data locally, remove if not necessary\n",
    ")"
   ]
  },
  {
   "cell_type": "code",
   "execution_count": 14,
   "metadata": {},
   "outputs": [
    {
     "data": {
      "text/plain": [
       "['f472494c-a48a-4c2d-b672-a39109a574a8',\n",
       " '2f1b00ce-7d5e-43cf-b80d-2e190fa4d2d9']"
      ]
     },
     "execution_count": 14,
     "metadata": {},
     "output_type": "execute_result"
    }
   ],
   "source": [
    "from uuid import uuid4\n",
    "from langchain_core.documents import Document\n",
    "\n",
    "documents = []\n",
    "for i, advert in enumerate(generated_adverts.adverts_list, start=1):\n",
    "    metadata = {}\n",
    "    metadata[\"source\"] = \"generated_adverts\"\n",
    "    metadata[\"id\"] = i\n",
    "    metadata[\"location\"] = advert.location\n",
    "    metadata[\"style\"] = advert.style\n",
    "    metadata[\"rooms\"] = advert.rooms\n",
    "    metadata[\"bedrooms\"] = advert.bedrooms\n",
    "    metadata[\"bathrooms\"] = advert.bathrooms\n",
    "    metadata[\"floors\"] = advert.floors\n",
    "    metadata[\"house_size\"] = advert.house_size\n",
    "    metadata[\"price\"] = advert.price\n",
    "\n",
    "    page_content = advert.property_description + advert.neighborhood_description\n",
    "    documents.append(\n",
    "        Document(page_content=page_content, metadata=metadata)\n",
    "        )\n",
    "    \n",
    "uuids = [str(uuid4()) for _ in range(len(documents))]\n",
    "vector_store.add_documents(documents=documents, ids=uuids)"
   ]
  },
  {
   "cell_type": "code",
   "execution_count": 15,
   "metadata": {},
   "outputs": [],
   "source": [
    "request = \"I am looking for a nice town at Chicago with at least 2 bedrooms\""
   ]
  },
  {
   "cell_type": "code",
   "execution_count": 16,
   "metadata": {},
   "outputs": [
    {
     "name": "stdout",
     "output_type": "stream",
     "text": [
      "* This cozy Craftsman home is located in the quiet suburbs of Chicago. With 2 bedrooms and 1 bathroom, this home is perfect for a small family or a couple looking to downsize. The open floor plan and large windows allow for plenty of natural light, making the home feel spacious and inviting. The backyard is perfect for gardening and the neighborhood is peaceful and safe.The suburbs of Chicago offer a peaceful and family-friendly atmosphere. With plenty of parks and community events, there is always something to do. The area is also known for its great schools and low crime rates, making it a great place to raise a family. [{'bedrooms': 2, 'price': 350000, 'house_size': 1500, 'rooms': 5, 'style': 'Craftsman', 'id': 2, 'bathrooms': 1, 'source': 'generated_adverts', 'floors': 1, 'location': 'Chicago, Illinois'}]\n",
      "* This charming Victorian home is located in the heart of Brooklyn. With 3 spacious bedrooms and 2 full bathrooms, this home is perfect for a growing family. The beautiful hardwood floors and original crown molding add character and charm to the home. The backyard is perfect for entertaining and the neighborhood is filled with friendly neighbors and great schools.The neighborhood of Brooklyn is known for its diverse community and vibrant culture. With plenty of restaurants, shops, and parks, there is always something to do. The area is also home to some of the best schools in the city, making it a great place for families. [{'bathrooms': 2, 'bedrooms': 3, 'rooms': 6, 'id': 1, 'source': 'generated_adverts', 'style': 'Victorian', 'floors': 2, 'location': 'Brooklyn, New York', 'house_size': 2000, 'price': 500000}]\n"
     ]
    }
   ],
   "source": [
    "results = vector_store.similarity_search(\n",
    "    request,\n",
    "    k=2,\n",
    "    filter={\"source\": \"generated_adverts\"},\n",
    ")\n",
    "for res in results:\n",
    "    print(f\"* {res.page_content} [{res.metadata}]\")"
   ]
  },
  {
   "cell_type": "code",
   "execution_count": 17,
   "metadata": {},
   "outputs": [
    {
     "name": "stdout",
     "output_type": "stream",
     "text": [
      "* [SIM=1.830079] This cozy Craftsman home is located in the quiet suburbs of Chicago. With 2 bedrooms and 1 bathroom, this home is perfect for a small family or a couple looking to downsize. The open floor plan and large windows allow for plenty of natural light, making the home feel spacious and inviting. The backyard is perfect for gardening and the neighborhood is peaceful and safe.The suburbs of Chicago offer a peaceful and family-friendly atmosphere. With plenty of parks and community events, there is always something to do. The area is also known for its great schools and low crime rates, making it a great place to raise a family. [{'source': 'generated_adverts', 'id': 2, 'rooms': 5, 'price': 350000, 'bedrooms': 2, 'location': 'Chicago, Illinois', 'floors': 1, 'bathrooms': 1, 'style': 'Craftsman', 'house_size': 1500}]\n",
      "* [SIM=1.859442] This charming Victorian home is located in the heart of Brooklyn. With 3 spacious bedrooms and 2 full bathrooms, this home is perfect for a growing family. The beautiful hardwood floors and original crown molding add character and charm to the home. The backyard is perfect for entertaining and the neighborhood is filled with friendly neighbors and great schools.The neighborhood of Brooklyn is known for its diverse community and vibrant culture. With plenty of restaurants, shops, and parks, there is always something to do. The area is also home to some of the best schools in the city, making it a great place for families. [{'location': 'Brooklyn, New York', 'id': 1, 'floors': 2, 'style': 'Victorian', 'bathrooms': 2, 'house_size': 2000, 'source': 'generated_adverts', 'bedrooms': 3, 'rooms': 6, 'price': 500000}]\n"
     ]
    }
   ],
   "source": [
    "results = vector_store.similarity_search_with_score(\n",
    "    \"Will it be hot tomorrow?\", k=2, filter={\"source\": \"generated_adverts\"}\n",
    ")\n",
    "for res, score in results:\n",
    "    print(f\"* [SIM={score:3f}] {res.page_content} [{res.metadata}]\")"
   ]
  },
  {
   "cell_type": "code",
   "execution_count": 18,
   "metadata": {},
   "outputs": [
    {
     "name": "stdout",
     "output_type": "stream",
     "text": [
      "* This cozy Craftsman home is located in the quiet suburbs of Chicago. With 2 bedrooms and 1 bathroom, this home is perfect for a small family or a couple looking to downsize. The open floor plan and large windows allow for plenty of natural light, making the home feel spacious and inviting. The backyard is perfect for gardening and the neighborhood is peaceful and safe.The suburbs of Chicago offer a peaceful and family-friendly atmosphere. With plenty of parks and community events, there is always something to do. The area is also known for its great schools and low crime rates, making it a great place to raise a family. [{'id': 2, 'style': 'Craftsman', 'rooms': 5, 'floors': 1, 'house_size': 1500, 'source': 'generated_adverts', 'bathrooms': 1, 'bedrooms': 2, 'price': 350000, 'location': 'Chicago, Illinois'}]\n",
      "* This charming Victorian home is located in the heart of Brooklyn. With 3 spacious bedrooms and 2 full bathrooms, this home is perfect for a growing family. The beautiful hardwood floors and original crown molding add character and charm to the home. The backyard is perfect for entertaining and the neighborhood is filled with friendly neighbors and great schools.The neighborhood of Brooklyn is known for its diverse community and vibrant culture. With plenty of restaurants, shops, and parks, there is always something to do. The area is also home to some of the best schools in the city, making it a great place for families. [{'house_size': 2000, 'id': 1, 'price': 500000, 'style': 'Victorian', 'bedrooms': 3, 'location': 'Brooklyn, New York', 'bathrooms': 2, 'source': 'generated_adverts', 'rooms': 6, 'floors': 2}]\n"
     ]
    }
   ],
   "source": [
    "results = vector_store.similarity_search_by_vector(\n",
    "    embedding=embeddings.embed_query(request), k=2\n",
    ")\n",
    "for doc in results:\n",
    "    print(f\"* {doc.page_content} [{doc.metadata}]\")"
   ]
  },
  {
   "cell_type": "code",
   "execution_count": null,
   "metadata": {},
   "outputs": [],
   "source": []
  }
 ],
 "metadata": {
  "kernelspec": {
   "display_name": "udacity_genai_p5",
   "language": "python",
   "name": "python3"
  },
  "language_info": {
   "codemirror_mode": {
    "name": "ipython",
    "version": 3
   },
   "file_extension": ".py",
   "mimetype": "text/x-python",
   "name": "python",
   "nbconvert_exporter": "python",
   "pygments_lexer": "ipython3",
   "version": "3.12.9"
  }
 },
 "nbformat": 4,
 "nbformat_minor": 2
}
