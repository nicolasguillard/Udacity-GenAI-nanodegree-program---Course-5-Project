{
 "cells": [
  {
   "cell_type": "markdown",
   "metadata": {},
   "source": [
    "Utilisation de pydantic pour forcer le LLM à mieux respecter un format qui sera transformé grâce à des mécanismes de LangChain."
   ]
  },
  {
   "cell_type": "code",
   "execution_count": 1,
   "metadata": {},
   "outputs": [],
   "source": [
    "import os\n",
    "os.environ[\"OPENAI_API_KEY\"] = \"voc-8162499801266773377505669655d3c05508.40840521\"\n",
    "os.environ[\"OPENAI_API_BASE\"] = \"https://openai.vocareum.com/v1\""
   ]
  },
  {
   "cell_type": "code",
   "execution_count": null,
   "metadata": {},
   "outputs": [],
   "source": [
    "#from langchain_openai import OpenAI\n",
    "from langchain_openai import OpenAI\n",
    "from langchain.prompts import PromptTemplate\n",
    "from langchain.output_parsers import PydanticOutputParser\n",
    "from pydantic import BaseModel, Field\n",
    "from langchain_openai import OpenAIEmbeddings\n",
    "from langchain_chroma import Chroma\n",
    "import json"
   ]
  },
  {
   "cell_type": "code",
   "execution_count": 3,
   "metadata": {},
   "outputs": [],
   "source": [
    "model_name=\"gpt-3.5-turbo-instruct\"\n",
    "#model_name=\"gpt-4o-mini\"\n",
    "temperature = 0.0\n",
    "llm = OpenAI(\n",
    "    model_name=model_name, temperature=temperature, max_tokens=3500\n",
    ")"
   ]
  },
  {
   "cell_type": "code",
   "execution_count": 4,
   "metadata": {},
   "outputs": [],
   "source": [
    "class PropertyAdvertClass(BaseModel):\n",
    "    location: str = Field(\n",
    "        description = \"location in USA including the name the neighborhood\"\n",
    "    )\n",
    "    style: str = Field(\n",
    "        description = \"style of construction\"\n",
    "    )\n",
    "    rooms: int = Field(\n",
    "        description = \"number of rooms\"\n",
    "    )\n",
    "    bedrooms: int = Field(\n",
    "        description = \"number of bedrooms\"\n",
    "    )\n",
    "    bathrooms: int = Field(\n",
    "        description = \"number of bathrooms\"\n",
    "    )\n",
    "    floors: int = Field(\n",
    "        description = \"number of floors\"\n",
    "    )\n",
    "    house_size: int = Field(\n",
    "        description = \"surface area in square feet\"\n",
    "    )\n",
    "    price: int = Field(\n",
    "        description = \"price in dollars\"\n",
    "    )\n",
    "    property_description : str = Field(\n",
    "        description = \"a detailed description including its surface area in square feet, the number of rooms, bedrooms and bathrooms, the number of floors, if there are a garage and a garden, the style of construction and its price in dollars\"\n",
    "    )\n",
    "    neighborhood_description : str = Field(\n",
    "        description = \"the neighborhood description\"\n",
    "    )\n",
    "\n",
    "class ListOfAdvertsClass(BaseModel):\n",
    "    adverts_list: list[PropertyAdvertClass]"
   ]
  },
  {
   "cell_type": "markdown",
   "metadata": {},
   "source": [
    "```python\n",
    "complete_advert : str = Field(\n",
    "    description = \"the complete detailled description of this advertisement, including the neightborhood location, style, rooms, bedrooms, bathrooms, floors, house_size, price, and property and nieghtborhood descriptions\"\n",
    ")\n",
    "\n",
    "description = \"the complete detailled description of this advertisement, including the neightborhood location, style, rooms, bedrooms, bathrooms, floors, house_size, price, and property and nieghtborhood descriptions\"\n",
    "\n",
    "```"
   ]
  },
  {
   "cell_type": "code",
   "execution_count": 5,
   "metadata": {},
   "outputs": [
    {
     "name": "stdout",
     "output_type": "stream",
     "text": [
      "The output should be formatted as a JSON instance that conforms to the JSON schema below.\n",
      "\n",
      "As an example, for the schema {\"properties\": {\"foo\": {\"title\": \"Foo\", \"description\": \"a list of strings\", \"type\": \"array\", \"items\": {\"type\": \"string\"}}}, \"required\": [\"foo\"]}\n",
      "the object {\"foo\": [\"bar\", \"baz\"]} is a well-formatted instance of the schema. The object {\"properties\": {\"foo\": [\"bar\", \"baz\"]}} is not well-formatted.\n",
      "\n",
      "Here is the output schema:\n",
      "```\n",
      "{\"$defs\": {\"PropertyAdvertClass\": {\"properties\": {\"location\": {\"description\": \"location in USA including the name the neighborhood\", \"title\": \"Location\", \"type\": \"string\"}, \"style\": {\"description\": \"style of construction\", \"title\": \"Style\", \"type\": \"string\"}, \"rooms\": {\"description\": \"number of rooms\", \"title\": \"Rooms\", \"type\": \"integer\"}, \"bedrooms\": {\"description\": \"number of bedrooms\", \"title\": \"Bedrooms\", \"type\": \"integer\"}, \"bathrooms\": {\"description\": \"number of bathrooms\", \"title\": \"Bathrooms\", \"type\": \"integer\"}, \"floors\": {\"description\": \"number of floors\", \"title\": \"Floors\", \"type\": \"integer\"}, \"house_size\": {\"description\": \"surface area in square feet\", \"title\": \"House Size\", \"type\": \"integer\"}, \"price\": {\"description\": \"price in dollars\", \"title\": \"Price\", \"type\": \"integer\"}, \"property_description\": {\"description\": \"a detailed description including its surface area in square feet, the number of rooms, bedrooms and bathrooms, the number of floors, if there are a garage and a garden, the style of construction and its price in dollars\", \"title\": \"Property Description\", \"type\": \"string\"}, \"neighborhood_description\": {\"description\": \"the neighborhood description\", \"title\": \"Neighborhood Description\", \"type\": \"string\"}}, \"required\": [\"location\", \"style\", \"rooms\", \"bedrooms\", \"bathrooms\", \"floors\", \"house_size\", \"price\", \"property_description\", \"neighborhood_description\"], \"title\": \"PropertyAdvertClass\", \"type\": \"object\"}}, \"properties\": {\"adverts_list\": {\"items\": {\"$ref\": \"#/$defs/PropertyAdvertClass\"}, \"title\": \"Adverts List\", \"type\": \"array\"}}, \"required\": [\"adverts_list\"]}\n",
      "```\n"
     ]
    }
   ],
   "source": [
    "parser = PydanticOutputParser(pydantic_object=ListOfAdvertsClass)\n",
    "print(parser.get_format_instructions())"
   ]
  },
  {
   "cell_type": "code",
   "execution_count": 6,
   "metadata": {},
   "outputs": [],
   "source": [
    "gen_prompt = PromptTemplate(\n",
    "    template=\"{question}.{context}\\n{format_instructions}\",\n",
    "    input_variables=[\"question\", \"context\"],\n",
    "    partial_variables={\"format_instructions\": parser.get_format_instructions},\n",
    ")"
   ]
  },
  {
   "cell_type": "code",
   "execution_count": null,
   "metadata": {},
   "outputs": [
    {
     "name": "stdout",
     "output_type": "stream",
     "text": [
      "\n",
      "    generate 5 real estate advertisements for middle-class buyers, each respecting the output schema, and all gathered in a unique array. be creative in your descriptions but consistent and realistic.\n",
      ".the following is a list of properties for sale in the west of USA.\n",
      "The output should be formatted as a JSON instance that conforms to the JSON schema below.\n",
      "\n",
      "As an example, for the schema {\"properties\": {\"foo\": {\"title\": \"Foo\", \"description\": \"a list of strings\", \"type\": \"array\", \"items\": {\"type\": \"string\"}}}, \"required\": [\"foo\"]}\n",
      "the object {\"foo\": [\"bar\", \"baz\"]} is a well-formatted instance of the schema. The object {\"properties\": {\"foo\": [\"bar\", \"baz\"]}} is not well-formatted.\n",
      "\n",
      "Here is the output schema:\n",
      "```\n",
      "{\"$defs\": {\"PropertyAdvertClass\": {\"properties\": {\"location\": {\"description\": \"location in USA including the name the neighborhood\", \"title\": \"Location\", \"type\": \"string\"}, \"style\": {\"description\": \"style of construction\", \"title\": \"Style\", \"type\": \"string\"}, \"rooms\": {\"description\": \"number of rooms\", \"title\": \"Rooms\", \"type\": \"integer\"}, \"bedrooms\": {\"description\": \"number of bedrooms\", \"title\": \"Bedrooms\", \"type\": \"integer\"}, \"bathrooms\": {\"description\": \"number of bathrooms\", \"title\": \"Bathrooms\", \"type\": \"integer\"}, \"floors\": {\"description\": \"number of floors\", \"title\": \"Floors\", \"type\": \"integer\"}, \"house_size\": {\"description\": \"surface area in square feet\", \"title\": \"House Size\", \"type\": \"integer\"}, \"price\": {\"description\": \"price in dollars\", \"title\": \"Price\", \"type\": \"integer\"}, \"property_description\": {\"description\": \"a detailed description including its surface area in square feet, the number of rooms, bedrooms and bathrooms, the number of floors, if there are a garage and a garden, the style of construction and its price in dollars\", \"title\": \"Property Description\", \"type\": \"string\"}, \"neighborhood_description\": {\"description\": \"the neighborhood description\", \"title\": \"Neighborhood Description\", \"type\": \"string\"}}, \"required\": [\"location\", \"style\", \"rooms\", \"bedrooms\", \"bathrooms\", \"floors\", \"house_size\", \"price\", \"property_description\", \"neighborhood_description\"], \"title\": \"PropertyAdvertClass\", \"type\": \"object\"}}, \"properties\": {\"adverts_list\": {\"items\": {\"$ref\": \"#/$defs/PropertyAdvertClass\"}, \"title\": \"Adverts List\", \"type\": \"array\"}}, \"required\": [\"adverts_list\"]}\n",
      "```\n",
      "\n",
      "{\n",
      "  \"adverts_list\": [\n",
      "    {\n",
      "      \"location\": \"Los Angeles, California\",\n",
      "      \"style\": \"Modern\",\n",
      "      \"rooms\": 6,\n",
      "      \"bedrooms\": 3,\n",
      "      \"bathrooms\": 2,\n",
      "      \"floors\": 2,\n",
      "      \"house_size\": 2000,\n",
      "      \"price\": 500000,\n",
      "      \"property_description\": \"This beautiful modern home is located in the heart of Los Angeles. It features 3 bedrooms, 2 bathrooms, and a spacious living area. The house has 2 floors and a total size of 2000 square feet. It also has a garage and a small garden. The price for this property is $500,000.\",\n",
      "      \"neighborhood_description\": \"The neighborhood is known for its vibrant culture and diverse community. It is also conveniently located near popular restaurants, shopping centers, and entertainment venues.\"\n",
      "    },\n",
      "    {\n",
      "      \"location\": \"Phoenix, Arizona\",\n",
      "      \"style\": \"Ranch\",\n",
      "      \"rooms\": 5,\n",
      "      \"bedrooms\": 4,\n",
      "      \"bathrooms\": 3,\n",
      "      \"floors\": 1,\n",
      "      \"house_size\": 3000,\n",
      "      \"price\": 400000,\n",
      "      \"property_description\": \"This charming ranch-style home is located in Phoenix, Arizona. It has 4 bedrooms, 3 bathrooms, and a total of 3000 square feet. The house has a single floor and a spacious backyard. The price for this property is $400,000.\",\n",
      "      \"neighborhood_description\": \"The neighborhood is known for its peaceful and family-friendly atmosphere. It is also close to schools, parks, and other amenities.\"\n",
      "    },\n",
      "    {\n",
      "      \"location\": \"Denver, Colorado\",\n",
      "      \"style\": \"Victorian\",\n",
      "      \"rooms\": 7,\n",
      "      \"bedrooms\": 5,\n",
      "      \"bathrooms\": 4,\n",
      "      \"floors\": 3,\n",
      "      \"house_size\": 4000,\n",
      "      \"price\": 600000,\n",
      "      \"property_description\": \"This stunning Victorian home is located in the historic district of Denver, Colorado. It has 5 bedrooms, 4 bathrooms, and a total of 4000 square feet. The house has 3 floors and a beautiful garden. The price for this property is $600,000.\",\n",
      "      \"neighborhood_description\": \"The neighborhood is known for its rich history and beautiful architecture. It is also close to downtown Denver and its many attractions.\"\n",
      "    },\n",
      "    {\n",
      "      \"location\": \"Seattle, Washington\",\n",
      "      \"style\": \"Craftsman\",\n",
      "      \"rooms\": 6,\n",
      "      \"bedrooms\": 3,\n",
      "      \"bathrooms\": 2,\n",
      "      \"floors\": 2,\n",
      "      \"house_size\": 2500,\n",
      "      \"price\": 550000,\n",
      "      \"property_description\": \"This charming Craftsman home is located in the scenic city of Seattle, Washington. It has 3 bedrooms, 2 bathrooms, and a total of 2500 square feet. The house has 2 floors and a cozy backyard. The price for this property is $550,000.\",\n",
      "      \"neighborhood_description\": \"The neighborhood is known for its beautiful views and outdoor activities. It is also close to popular coffee shops, restaurants, and markets.\"\n",
      "    },\n",
      "    {\n",
      "      \"location\": \"Las Vegas, Nevada\",\n",
      "      \"style\": \"Mediterranean\",\n",
      "      \"rooms\": 8,\n",
      "      \"bedrooms\": 6,\n",
      "      \"bathrooms\": 5,\n",
      "      \"floors\": 2,\n",
      "      \"house_size\": 5000,\n",
      "      \"price\": 800000,\n",
      "      \"property_description\": \"This luxurious Mediterranean home is located in the bustling city of Las Vegas, Nevada. It has 6 bedrooms, 5 bathrooms, and a total of 5000 square feet. The house has 2 floors and a spacious backyard with a pool. The price for this property is $800,000.\",\n",
      "      \"neighborhood_description\": \"The neighborhood is known for its vibrant nightlife and entertainment options. It is also close to popular casinos, shopping centers, and restaurants.\"\n",
      "    }\n",
      "  ]\n",
      "}\n"
     ]
    }
   ],
   "source": [
    "# each information and descriptions of an advertisement must be repeated in a new complete description set in the 'complete_advert' property.\n",
    "\n",
    "requests_data = [\n",
    "    {\n",
    "        \"num_ads\": 5,\n",
    "        \"context\": \"the following is a list of properties for sale in the west coast of USA.\",\n",
    "    },\n",
    "    {\n",
    "        \"num_ads\": 5,\n",
    "        \"context\": \"the following is a list of properties for sale in the midlle west of USA.\",\n",
    "    },\n",
    "    {\n",
    "        \"num_ads\": 5,\n",
    "        \"context\": \"the following is a list of properties for sale in the midlle east of USA.\",\n",
    "    },\n",
    "    {\n",
    "        \"num_ads\": 5,\n",
    "        \"context\": \"the following is a list of properties for sale in the east coast of USA.\",\n",
    "    },\n",
    "]\n",
    "\n",
    "generated_adverts = []\n",
    "for request in requests_data:\n",
    "    num_ads = request[\"num_ads\"]\n",
    "    context = request[\"context\"]\n",
    "    \n",
    "    adverts_query = f\"\"\"\n",
    "        generate {num_ads} real estate advertisements for middle-class buyers, each respecting the output schema, and all gathered in a unique array. be creative in your descriptions but consistent and realistic.\n",
    "    \"\"\"\n",
    "\n",
    "    prompt = gen_prompt.format(question=adverts_query, context=context)\n",
    "\n",
    "    generated_adverts = llm.invoke(prompt)\n",
    "    print(generated_adverts)\n",
    "\n",
    "    adverts_query = f\"\"\"\n",
    "        generate {num_ads} real estate advertisements for middle-class buyers, each respecting the output schema, and all gathered in a unique array. be creative in your descriptions but consistent and realistic.\n",
    "    \"\"\"\n",
    "    context_query = f\"the following is a list of properties for sale in {context}.\"\n",
    "\n",
    "    prompt = gen_prompt.format(question=adverts_query, context=context_query)\n",
    "    #print(prompt)\n",
    "\n",
    "    generated_adverts = llm.invoke(prompt)\n",
    "    #print(generated_adverts)"
   ]
  },
  {
   "cell_type": "code",
   "execution_count": 8,
   "metadata": {},
   "outputs": [],
   "source": [
    "generated_adverts = parser.parse(generated_adverts)"
   ]
  },
  {
   "cell_type": "code",
   "execution_count": 9,
   "metadata": {},
   "outputs": [
    {
     "name": "stdout",
     "output_type": "stream",
     "text": [
      "> This beautiful modern home is located in the heart of Los Angeles. It features 3 bedrooms, 2 bathrooms, and a spacious living area. The house has 2 floors and a total size of 2000 square feet. It also has a garage and a small garden. The price for this property is $500,000.\n",
      "\n",
      "> The neighborhood is known for its vibrant culture and diverse community. It is also conveniently located near popular restaurants, shopping centers, and entertainment venues.\n",
      "\n"
     ]
    }
   ],
   "source": [
    "print(\">\", generated_adverts.adverts_list[0].property_description, end=\"\\n\\n\")\n",
    "print(\">\", generated_adverts.adverts_list[0].neighborhood_description, end=\"\\n\\n\")"
   ]
  },
  {
   "cell_type": "code",
   "execution_count": null,
   "metadata": {},
   "outputs": [],
   "source": [
    "filename = \"generated_adverts_b.jsonl\"\n",
    "with open(filename, \"w\") as save_file:\n",
    "    for advert in generated_adverts.adverts_list:\n",
    "        json.dump(advert.model_dump(mode=\"json\"), save_file)\n",
    "        save_file.write('\\n')\n",
    "save_file.close()"
   ]
  },
  {
   "cell_type": "code",
   "execution_count": 11,
   "metadata": {},
   "outputs": [
    {
     "name": "stdout",
     "output_type": "stream",
     "text": [
      "{'location': 'Los Angeles, California', 'style': 'Modern', 'rooms': 6, 'bedrooms': 3, 'bathrooms': 2, 'floors': 2, 'house_size': 2000, 'price': 500000, 'property_description': 'This beautiful modern home is located in the heart of Los Angeles. It features 3 bedrooms, 2 bathrooms, and a spacious living area. The house has 2 floors and a total size of 2000 square feet. It also has a garage and a small garden. The price for this property is $500,000.', 'neighborhood_description': 'The neighborhood is known for its vibrant culture and diverse community. It is also conveniently located near popular restaurants, shopping centers, and entertainment venues.'}\n",
      "{'location': 'Phoenix, Arizona', 'style': 'Ranch', 'rooms': 5, 'bedrooms': 4, 'bathrooms': 3, 'floors': 1, 'house_size': 3000, 'price': 400000, 'property_description': 'This charming ranch-style home is located in Phoenix, Arizona. It has 4 bedrooms, 3 bathrooms, and a total of 3000 square feet. The house has a single floor and a spacious backyard. The price for this property is $400,000.', 'neighborhood_description': 'The neighborhood is known for its peaceful and family-friendly atmosphere. It is also close to schools, parks, and other amenities.'}\n",
      "{'location': 'Denver, Colorado', 'style': 'Victorian', 'rooms': 7, 'bedrooms': 5, 'bathrooms': 4, 'floors': 3, 'house_size': 4000, 'price': 600000, 'property_description': 'This stunning Victorian home is located in the historic district of Denver, Colorado. It has 5 bedrooms, 4 bathrooms, and a total of 4000 square feet. The house has 3 floors and a beautiful garden. The price for this property is $600,000.', 'neighborhood_description': 'The neighborhood is known for its rich history and beautiful architecture. It is also close to downtown Denver and its many attractions.'}\n",
      "{'location': 'Seattle, Washington', 'style': 'Craftsman', 'rooms': 6, 'bedrooms': 3, 'bathrooms': 2, 'floors': 2, 'house_size': 2500, 'price': 550000, 'property_description': 'This charming Craftsman home is located in the scenic city of Seattle, Washington. It has 3 bedrooms, 2 bathrooms, and a total of 2500 square feet. The house has 2 floors and a cozy backyard. The price for this property is $550,000.', 'neighborhood_description': 'The neighborhood is known for its beautiful views and outdoor activities. It is also close to popular coffee shops, restaurants, and markets.'}\n",
      "{'location': 'Las Vegas, Nevada', 'style': 'Mediterranean', 'rooms': 8, 'bedrooms': 6, 'bathrooms': 5, 'floors': 2, 'house_size': 5000, 'price': 800000, 'property_description': 'This luxurious Mediterranean home is located in the bustling city of Las Vegas, Nevada. It has 6 bedrooms, 5 bathrooms, and a total of 5000 square feet. The house has 2 floors and a spacious backyard with a pool. The price for this property is $800,000.', 'neighborhood_description': 'The neighborhood is known for its vibrant nightlife and entertainment options. It is also close to popular casinos, shopping centers, and restaurants.'}\n"
     ]
    }
   ],
   "source": [
    "with open(filename, \"r\") as file:\n",
    "    for line in file:\n",
    "        data_entry = json.loads(line)\n",
    "        # Process each data_entry as a Python dict\n",
    "        print(data_entry)"
   ]
  },
  {
   "cell_type": "code",
   "execution_count": 12,
   "metadata": {},
   "outputs": [],
   "source": [
    "vector_store_directory = \"./chroma_langchain_db\""
   ]
  },
  {
   "cell_type": "code",
   "execution_count": 13,
   "metadata": {},
   "outputs": [],
   "source": [
    "!rm -rf {vector_store_directory}"
   ]
  },
  {
   "cell_type": "code",
   "execution_count": 14,
   "metadata": {},
   "outputs": [],
   "source": [
    "embeddings = OpenAIEmbeddings(model=\"text-embedding-3-large\")\n",
    "\n",
    "vector_store = Chroma(\n",
    "    collection_name=\"real_estate\",\n",
    "    embedding_function=embeddings,\n",
    "    persist_directory=vector_store_directory,  # Where to save data locally, remove if not necessary\n",
    ")"
   ]
  },
  {
   "cell_type": "code",
   "execution_count": 15,
   "metadata": {},
   "outputs": [
    {
     "data": {
      "text/plain": [
       "['14a17187-b613-4a0d-af49-79e5579499e4',\n",
       " 'edb652ed-5dc1-4d55-af9e-223c1faff3ee',\n",
       " 'bb6c7f39-572a-447f-99a3-14b1f6dd6231',\n",
       " '1af81d2d-14eb-4264-a373-62e5aeddf6a9',\n",
       " 'f3be6216-b7e8-4c65-a4a8-85ecfb219ef4']"
      ]
     },
     "execution_count": 15,
     "metadata": {},
     "output_type": "execute_result"
    }
   ],
   "source": [
    "from uuid import uuid4\n",
    "from langchain_core.documents import Document\n",
    "\n",
    "documents = []\n",
    "for i, advert in enumerate(generated_adverts.adverts_list, start=1):\n",
    "    metadata = {}\n",
    "    metadata[\"source\"] = model_name\n",
    "    metadata[\"id\"] = i\n",
    "    metadata[\"location\"] = advert.location\n",
    "    metadata[\"style\"] = advert.style\n",
    "    metadata[\"rooms\"] = advert.rooms\n",
    "    metadata[\"bedrooms\"] = advert.bedrooms\n",
    "    metadata[\"bathrooms\"] = advert.bathrooms\n",
    "    metadata[\"floors\"] = advert.floors\n",
    "    metadata[\"house_size\"] = advert.house_size\n",
    "    metadata[\"price\"] = advert.price\n",
    "\n",
    "    page_content = advert.property_description + advert.neighborhood_description\n",
    "    documents.append(\n",
    "        Document(page_content=page_content, metadata=metadata)\n",
    "        )\n",
    "    \n",
    "uuids = [str(uuid4()) for _ in range(len(documents))]\n",
    "vector_store.add_documents(documents=documents, ids=uuids)"
   ]
  },
  {
   "cell_type": "code",
   "execution_count": 16,
   "metadata": {},
   "outputs": [],
   "source": [
    "request = \"I'm looking for a modern-style house with a sea view for a large family (at least 3 bedrooms)\""
   ]
  },
  {
   "cell_type": "code",
   "execution_count": 17,
   "metadata": {},
   "outputs": [],
   "source": [
    "results = vector_store.similarity_search(\n",
    "    request,\n",
    "    k=2,\n",
    "    filter={\"source\": \"generated_adverts\"},\n",
    ")\n",
    "for res in results:\n",
    "    print(f\"* {res.page_content} [{res.metadata}]\")"
   ]
  },
  {
   "cell_type": "code",
   "execution_count": 18,
   "metadata": {},
   "outputs": [],
   "source": [
    "results = vector_store.similarity_search_with_score(\n",
    "    \"Will it be hot tomorrow?\", k=2, filter={\"source\": \"generated_adverts\"}\n",
    ")\n",
    "for res, score in results:\n",
    "    print(f\"* [SIM={score:3f}] {res.page_content} [{res.metadata}]\")"
   ]
  },
  {
   "cell_type": "code",
   "execution_count": 19,
   "metadata": {},
   "outputs": [
    {
     "name": "stdout",
     "output_type": "stream",
     "text": [
      "* This beautiful modern home is located in the heart of Los Angeles. It features 3 bedrooms, 2 bathrooms, and a spacious living area. The house has 2 floors and a total size of 2000 square feet. It also has a garage and a small garden. The price for this property is $500,000.The neighborhood is known for its vibrant culture and diverse community. It is also conveniently located near popular restaurants, shopping centers, and entertainment venues. [{'house_size': 2000, 'bedrooms': 3, 'price': 500000, 'style': 'Modern', 'bathrooms': 2, 'floors': 2, 'id': 1, 'rooms': 6, 'location': 'Los Angeles, California', 'source': 'gpt-3.5-turbo-instruct'}]\n",
      "* This luxurious Mediterranean home is located in the bustling city of Las Vegas, Nevada. It has 6 bedrooms, 5 bathrooms, and a total of 5000 square feet. The house has 2 floors and a spacious backyard with a pool. The price for this property is $800,000.The neighborhood is known for its vibrant nightlife and entertainment options. It is also close to popular casinos, shopping centers, and restaurants. [{'id': 5, 'floors': 2, 'location': 'Las Vegas, Nevada', 'house_size': 5000, 'rooms': 8, 'style': 'Mediterranean', 'bedrooms': 6, 'bathrooms': 5, 'price': 800000, 'source': 'gpt-3.5-turbo-instruct'}]\n"
     ]
    }
   ],
   "source": [
    "results = vector_store.similarity_search_by_vector(\n",
    "    embedding=embeddings.embed_query(request), k=2\n",
    ")\n",
    "for doc in results:\n",
    "    print(f\"* {doc.page_content} [{doc.metadata}]\")"
   ]
  }
 ],
 "metadata": {
  "kernelspec": {
   "display_name": "udacity_genai_p5",
   "language": "python",
   "name": "python3"
  },
  "language_info": {
   "codemirror_mode": {
    "name": "ipython",
    "version": 3
   },
   "file_extension": ".py",
   "mimetype": "text/x-python",
   "name": "python",
   "nbconvert_exporter": "python",
   "pygments_lexer": "ipython3",
   "version": "3.12.9"
  }
 },
 "nbformat": 4,
 "nbformat_minor": 2
}
