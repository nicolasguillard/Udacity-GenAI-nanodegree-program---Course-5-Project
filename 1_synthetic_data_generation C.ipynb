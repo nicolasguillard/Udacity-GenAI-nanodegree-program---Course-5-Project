{
 "cells": [
  {
   "cell_type": "markdown",
   "id": "fe8f8109",
   "metadata": {},
   "source": [
    "Utilisation des dernières versions de librairies, et inspiration de :\n",
    "- https://python.langchain.com/docs/how_to/output_parser_json/\n"
   ]
  },
  {
   "cell_type": "code",
   "execution_count": 1,
   "id": "9f4f2787",
   "metadata": {},
   "outputs": [],
   "source": [
    "from langchain.chat_models import init_chat_model\n",
    "from typing import Optional\n",
    "from pydantic import BaseModel, Field\n",
    "from langchain_core.output_parsers import JsonOutputParser\n",
    "from langchain_core.prompts import PromptTemplate"
   ]
  },
  {
   "cell_type": "code",
   "execution_count": 2,
   "id": "42d7c8a9",
   "metadata": {},
   "outputs": [],
   "source": [
    "import os\n",
    "os.environ[\"OPENAI_API_KEY\"] = \"voc-8162499801266773377505669655d3c05508.40840521\"\n",
    "os.environ[\"OPENAI_API_BASE\"] = \"https://openai.vocareum.com/v1\""
   ]
  },
  {
   "cell_type": "code",
   "execution_count": 3,
   "id": "94e68af1",
   "metadata": {},
   "outputs": [],
   "source": [
    "model_name = \"gpt-3.5-turbo-instruct\" # \"gpt-4o-mini\"\n",
    "temperature = 0.0\n",
    "llm = init_chat_model(model_name, model_provider=\"openai\", temperature=temperature, max_tokens=3000)"
   ]
  },
  {
   "cell_type": "code",
   "execution_count": 4,
   "id": "0b1638a3",
   "metadata": {},
   "outputs": [],
   "source": [
    "class PropertyAdvertClass(BaseModel):\n",
    "    \"\"\"Real estate property advertisement class.\"\"\"\n",
    "    neighborhood: str = Field(\n",
    "        description = \"location in USA including the name the neighborhood\"\n",
    "    )\n",
    "    style: str = Field(\n",
    "        description = \"style of construction\"\n",
    "    )\n",
    "    rooms: int = Field(\n",
    "        description = \"number of rooms\"\n",
    "    )\n",
    "    bedrooms: int = Field(\n",
    "        description = \"number of bedrooms\"\n",
    "    )\n",
    "    bathrooms: int = Field(\n",
    "        description = \"number of bathrooms\"\n",
    "    )\n",
    "    floors: int = Field(\n",
    "        description = \"number of floors\"\n",
    "    )\n",
    "    house_size: str = Field(\n",
    "        description = \"surface area in square feet\"\n",
    "    )\n",
    "    price: str = Field(\n",
    "        description = \"price in dollars\"\n",
    "    )\n",
    "    property_description : str = Field(\n",
    "        description = \"a detailed description of the property\"\n",
    "    )\n",
    "    neighborhood_description : str = Field(\n",
    "        description = \"the neighborhood description\"\n",
    "    )"
   ]
  },
  {
   "cell_type": "code",
   "execution_count": 5,
   "id": "2d4ad2cb",
   "metadata": {},
   "outputs": [
    {
     "name": "stderr",
     "output_type": "stream",
     "text": [
      "/Users/me/opt/miniconda3/envs/udacity_genai_p5/lib/python3.12/site-packages/langchain_openai/chat_models/base.py:1645: UserWarning: Cannot use method='json_schema' with model gpt-3.5-turbo-instruct since it doesn't support OpenAI's Structured Output API. You can see supported models here: https://platform.openai.com/docs/guides/structured-outputs#supported-models. To fix this warning, set `method='function_calling'. Overriding to method='function_calling'.\n",
      "  warnings.warn(\n"
     ]
    }
   ],
   "source": [
    "structured_llm = llm.with_structured_output(PropertyAdvertClass)\n",
    "parser = JsonOutputParser(pydantic_object=PropertyAdvertClass)"
   ]
  },
  {
   "cell_type": "code",
   "execution_count": null,
   "id": "faaa65a4",
   "metadata": {},
   "outputs": [],
   "source": [
    "prompt = PromptTemplate(\n",
    "    template=\"{question}\\n{format_instructions}\",\n",
    "    input_variables=[\"question\", \"context\"],\n",
    "    partial_variables={\"format_instructions\": parser.get_format_instructions},\n",
    ")\n",
    "\n",
    "num_ads = 3\n",
    "adverts_query = f\"\"\"\n",
    "    generate {num_ads} property advertisements for middle-class buyers, each respecting the output schema, gathered in a json array.\n",
    "    be creative in your descriptions but consistent and realistic.\n",
    "\"\"\"\n",
    "chain = prompt | llm | parser\n",
    "\n",
    "adverts = chain.invoke({\"query\": adverts_query, \"context\": \"The following is a list of properties for sale in the USA.\"})\n",
    "print(adverts)"
   ]
  }
 ],
 "metadata": {
  "kernelspec": {
   "display_name": "udacity_genai_p5",
   "language": "python",
   "name": "python3"
  },
  "language_info": {
   "codemirror_mode": {
    "name": "ipython",
    "version": 3
   },
   "file_extension": ".py",
   "mimetype": "text/x-python",
   "name": "python",
   "nbconvert_exporter": "python",
   "pygments_lexer": "ipython3",
   "version": "3.12.9"
  }
 },
 "nbformat": 4,
 "nbformat_minor": 5
}
